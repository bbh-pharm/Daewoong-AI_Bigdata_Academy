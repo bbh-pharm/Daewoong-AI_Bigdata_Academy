{
  "nbformat": 4,
  "nbformat_minor": 0,
  "metadata": {
    "kernelspec": {
      "display_name": "Python 3",
      "language": "python",
      "name": "python3"
    },
    "language_info": {
      "codemirror_mode": {
        "name": "ipython",
        "version": 3
      },
      "file_extension": ".py",
      "mimetype": "text/x-python",
      "name": "python",
      "nbconvert_exporter": "python",
      "pygments_lexer": "ipython3",
      "version": "3.7.6"
    },
    "toc": {
      "base_numbering": 1,
      "nav_menu": {},
      "number_sections": true,
      "sideBar": true,
      "skip_h1_title": false,
      "title_cell": "Table of Contents",
      "title_sidebar": "Contents",
      "toc_cell": false,
      "toc_position": {},
      "toc_section_display": true,
      "toc_window_display": false
    },
    "varInspector": {
      "cols": {
        "lenName": 16,
        "lenType": 16,
        "lenVar": 40
      },
      "kernels_config": {
        "python": {
          "delete_cmd_postfix": "",
          "delete_cmd_prefix": "del ",
          "library": "var_list.py",
          "varRefreshCmd": "print(var_dic_list())"
        },
        "r": {
          "delete_cmd_postfix": ") ",
          "delete_cmd_prefix": "rm(",
          "library": "var_list.r",
          "varRefreshCmd": "cat(var_dic_list()) "
        }
      },
      "types_to_exclude": [
        "module",
        "function",
        "builtin_function_or_method",
        "instance",
        "_Feature"
      ],
      "window_display": false
    },
    "colab": {
      "name": "0504-4주차(과제)-텐서플로2로음주여부예측하기.ipynb의 배병현",
      "provenance": [],
      "collapsed_sections": []
    }
  },
  "cells": [
    {
      "cell_type": "markdown",
      "metadata": {
        "id": "o99HlcfxSapW"
      },
      "source": [
        "\n",
        "## 텐서플로2를 통한 분류 모델로 음주여부 예측하기\n",
        "\n",
        "* 건강검진 센터에서 음주여부에 응답을 하지 않는 사람이 있다고 가정합니다.\n",
        "* 검진 데이터를 바탕으로 음주여부를 예측한다면 건강한 생활습관을 가이드하는데 도움이 될 것 입니다.\n",
        "* 분류기 모델을 사용해서 건강검진 데이터를 바탕으로 음주여부를 예측해 봅니다.\n"
      ]
    },
    {
      "cell_type": "markdown",
      "metadata": {
        "id": "8OQ0mDhHTqhQ"
      },
      "source": [
        "### 01. 라이브러리 로드\n",
        "----"
      ]
    },
    {
      "cell_type": "code",
      "metadata": {
        "id": "LIkkkHKNSapX"
      },
      "source": [
        "import pandas as pd\n",
        "import numpy as np\n",
        "import seaborn as sns\n",
        "import matplotlib.pyplot as plt\n",
        "\n",
        "# 한글깨짐 설정\n",
        "# !sudo apt-get install -y fonts-nanum\n",
        "# !sudo fc-cache -fv\n",
        "# !rm ~/.cache/matplotlib -rf\n",
        "\n",
        "plt.rc('font', family='NanumBarunGothic') "
      ],
      "execution_count": 1,
      "outputs": []
    },
    {
      "cell_type": "code",
      "metadata": {
        "id": "Dx_HAv_tSapY",
        "colab": {
          "base_uri": "https://localhost:8080/"
        },
        "outputId": "c5b4d50a-7612-45a3-9356-d761527d427b"
      },
      "source": [
        "df = pd.read_csv(\"health.csv\")\n",
        "df.shape"
      ],
      "execution_count": 2,
      "outputs": [
        {
          "output_type": "execute_result",
          "data": {
            "text/plain": [
              "(10000, 34)"
            ]
          },
          "metadata": {
            "tags": []
          },
          "execution_count": 2
        }
      ]
    },
    {
      "cell_type": "markdown",
      "metadata": {
        "id": "lR6wLIEsTuiH"
      },
      "source": [
        "### 02. 탐색적 데이터 분석\n",
        "---"
      ]
    },
    {
      "cell_type": "code",
      "metadata": {
        "id": "874HwoNYSapY",
        "colab": {
          "base_uri": "https://localhost:8080/",
          "height": 279
        },
        "outputId": "8265c9e6-08fd-4214-9cb7-2c6deba0f99a"
      },
      "source": [
        "sns.countplot(data=df, x=\"음주여부\")\n",
        "plt.show()"
      ],
      "execution_count": 3,
      "outputs": [
        {
          "output_type": "display_data",
          "data": {
            "image/png": "[encoded data removed]",
            "text/plain": [
              "<Figure size 432x288 with 1 Axes>"
            ]
          },
          "metadata": {
            "tags": [],
            "needs_background": "light"
          }
        }
      ]
    },
    {
      "cell_type": "markdown",
      "metadata": {
        "id": "IgJbYHxET1K7"
      },
      "source": [
        "음주 여부는 거의 비슷한 비율로 존재합니다."
      ]
    },
    {
      "cell_type": "code",
      "metadata": {
        "id": "wk1KpDpiSapZ",
        "colab": {
          "base_uri": "https://localhost:8080/"
        },
        "outputId": "f1e07466-b801-4d26-cbb7-4a5f171c31b0"
      },
      "source": [
        "df.isnull().sum()"
      ],
      "execution_count": 4,
      "outputs": [
        {
          "output_type": "execute_result",
          "data": {
            "text/plain": [
              "기준년도                0\n",
              "가입자일련번호             0\n",
              "성별코드                0\n",
              "연령대코드(5세단위)         0\n",
              "시도코드                0\n",
              "신장(5Cm단위)           1\n",
              "체중(5Kg 단위)          1\n",
              "허리둘레                0\n",
              "시력(좌)               3\n",
              "시력(우)               3\n",
              "청력(좌)               1\n",
              "청력(우)               1\n",
              "수축기혈압               0\n",
              "이완기혈압               0\n",
              "식전혈당(공복혈당)          0\n",
              "총콜레스테롤              0\n",
              "트리글리세라이드            0\n",
              "HDL콜레스테롤            0\n",
              "LDL콜레스테롤           27\n",
              "혈색소                 0\n",
              "요단백                38\n",
              "혈청크레아티닌             0\n",
              "(혈청지오티)AST          0\n",
              "(혈청지오티)ALT          0\n",
              "감마지티피               0\n",
              "흡연상태                1\n",
              "음주여부                0\n",
              "구강검진 수검여부           0\n",
              "치아우식증유무         10000\n",
              "결손치유무           10000\n",
              "치아마모증유무         10000\n",
              "제3대구치(사랑니)이상    10000\n",
              "치석               6059\n",
              "데이터공개일자             0\n",
              "dtype: int64"
            ]
          },
          "metadata": {
            "tags": []
          },
          "execution_count": 4
        }
      ]
    },
    {
      "cell_type": "markdown",
      "metadata": {
        "id": "e6W9CRNoUzjG"
      },
      "source": [
        "결측치가 5000개 이상인 '치아우식증유무', '결손치유무', '치아마모증유무', '제3대구치(사랑니)이상', '치석' 컬럼은 제거합니다."
      ]
    },
    {
      "cell_type": "code",
      "metadata": {
        "id": "mLzfEcBGSapZ",
        "colab": {
          "base_uri": "https://localhost:8080/"
        },
        "outputId": "5bc868d7-511c-4243-9294-bda237d7fcbc"
      },
      "source": [
        "df = df.drop([ '치아우식증유무', '결손치유무', '치아마모증유무', '제3대구치(사랑니)이상', '치석'], axis=1)\n",
        "df.columns"
      ],
      "execution_count": 5,
      "outputs": [
        {
          "output_type": "execute_result",
          "data": {
            "text/plain": [
              "Index(['기준년도', '가입자일련번호', '성별코드', '연령대코드(5세단위)', '시도코드', '신장(5Cm단위)',\n",
              "       '체중(5Kg 단위)', '허리둘레', '시력(좌)', '시력(우)', '청력(좌)', '청력(우)', '수축기혈압',\n",
              "       '이완기혈압', '식전혈당(공복혈당)', '총콜레스테롤', '트리글리세라이드', 'HDL콜레스테롤', 'LDL콜레스테롤',\n",
              "       '혈색소', '요단백', '혈청크레아티닌', '(혈청지오티)AST', '(혈청지오티)ALT', '감마지티피', '흡연상태',\n",
              "       '음주여부', '구강검진 수검여부', '데이터공개일자'],\n",
              "      dtype='object')"
            ]
          },
          "metadata": {
            "tags": []
          },
          "execution_count": 5
        }
      ]
    },
    {
      "cell_type": "code",
      "metadata": {
        "id": "O3sdRARFSapa"
      },
      "source": [
        "# 요단백 컬럼의 결측치를 최빈값으로 대체\n",
        "mode = df[\"요단백\"].mode()[0]\n",
        "df[\"요단백\"] = df['요단백'].fillna(mode)\n",
        "\n",
        "# LDL 콜레스테롤은 중앙값으로 대체\n",
        "ldl_median = df.loc[(df[\"LDL콜레스테롤\"].notnull()), \"LDL콜레스테롤\"].median()\n",
        "df[\"LDL콜레스테롤\"] = df['LDL콜레스테롤'].fillna(ldl_median)"
      ],
      "execution_count": 6,
      "outputs": []
    },
    {
      "cell_type": "code",
      "metadata": {
        "colab": {
          "base_uri": "https://localhost:8080/"
        },
        "id": "quo0JaovV692",
        "outputId": "47625568-323d-4105-eb08-acffdec2774b"
      },
      "source": [
        "df_null = df.isnull().sum()\n",
        "df_null[df_null != 0]"
      ],
      "execution_count": 7,
      "outputs": [
        {
          "output_type": "execute_result",
          "data": {
            "text/plain": [
              "신장(5Cm단위)     1\n",
              "체중(5Kg 단위)    1\n",
              "시력(좌)         3\n",
              "시력(우)         3\n",
              "청력(좌)         1\n",
              "청력(우)         1\n",
              "흡연상태          1\n",
              "dtype: int64"
            ]
          },
          "metadata": {
            "tags": []
          },
          "execution_count": 7
        }
      ]
    },
    {
      "cell_type": "markdown",
      "metadata": {
        "id": "oVosFWazV3YW"
      },
      "source": [
        "나머지 결측치가 있는 행은 많지 않으니 drop 합니다."
      ]
    },
    {
      "cell_type": "code",
      "metadata": {
        "id": "J2iXyhIzSapb",
        "colab": {
          "base_uri": "https://localhost:8080/"
        },
        "outputId": "277dd3f6-780c-4771-a618-e03a7bba28f6"
      },
      "source": [
        "df = df.dropna()\n",
        "df.isnull().sum()"
      ],
      "execution_count": 8,
      "outputs": [
        {
          "output_type": "execute_result",
          "data": {
            "text/plain": [
              "기준년도           0\n",
              "가입자일련번호        0\n",
              "성별코드           0\n",
              "연령대코드(5세단위)    0\n",
              "시도코드           0\n",
              "신장(5Cm단위)      0\n",
              "체중(5Kg 단위)     0\n",
              "허리둘레           0\n",
              "시력(좌)          0\n",
              "시력(우)          0\n",
              "청력(좌)          0\n",
              "청력(우)          0\n",
              "수축기혈압          0\n",
              "이완기혈압          0\n",
              "식전혈당(공복혈당)     0\n",
              "총콜레스테롤         0\n",
              "트리글리세라이드       0\n",
              "HDL콜레스테롤       0\n",
              "LDL콜레스테롤       0\n",
              "혈색소            0\n",
              "요단백            0\n",
              "혈청크레아티닌        0\n",
              "(혈청지오티)AST     0\n",
              "(혈청지오티)ALT     0\n",
              "감마지티피          0\n",
              "흡연상태           0\n",
              "음주여부           0\n",
              "구강검진 수검여부      0\n",
              "데이터공개일자        0\n",
              "dtype: int64"
            ]
          },
          "metadata": {
            "tags": []
          },
          "execution_count": 8
        }
      ]
    },
    {
      "cell_type": "code",
      "metadata": {
        "colab": {
          "base_uri": "https://localhost:8080/",
          "height": 321
        },
        "id": "1T_c4mhTln62",
        "outputId": "a8de3357-8671-4ff9-c3e7-a1dcc0c9d894"
      },
      "source": [
        "df.describe()"
      ],
      "execution_count": 123,
      "outputs": [
        {
          "output_type": "execute_result",
          "data": {
            "text/html": [
              "<div>\n",
              "<style scoped>\n",
              "    .dataframe tbody tr th:only-of-type {\n",
              "        vertical-align: middle;\n",
              "    }\n",
              "\n",
              "    .dataframe tbody tr th {\n",
              "        vertical-align: top;\n",
              "    }\n",
              "\n",
              "    .dataframe thead th {\n",
              "        text-align: right;\n",
              "    }\n",
              "</style>\n",
              "<table border=\"1\" class=\"dataframe\">\n",
              "  <thead>\n",
              "    <tr style=\"text-align: right;\">\n",
              "      <th></th>\n",
              "      <th>기준년도</th>\n",
              "      <th>가입자일련번호</th>\n",
              "      <th>성별코드</th>\n",
              "      <th>연령대코드(5세단위)</th>\n",
              "      <th>시도코드</th>\n",
              "      <th>신장(5Cm단위)</th>\n",
              "      <th>체중(5Kg 단위)</th>\n",
              "      <th>허리둘레</th>\n",
              "      <th>시력(좌)</th>\n",
              "      <th>시력(우)</th>\n",
              "      <th>청력(좌)</th>\n",
              "      <th>청력(우)</th>\n",
              "      <th>수축기혈압</th>\n",
              "      <th>이완기혈압</th>\n",
              "      <th>식전혈당(공복혈당)</th>\n",
              "      <th>총콜레스테롤</th>\n",
              "      <th>트리글리세라이드</th>\n",
              "      <th>HDL콜레스테롤</th>\n",
              "      <th>LDL콜레스테롤</th>\n",
              "      <th>혈색소</th>\n",
              "      <th>요단백</th>\n",
              "      <th>혈청크레아티닌</th>\n",
              "      <th>(혈청지오티)AST</th>\n",
              "      <th>(혈청지오티)ALT</th>\n",
              "      <th>감마지티피</th>\n",
              "      <th>흡연상태</th>\n",
              "      <th>음주여부</th>\n",
              "      <th>구강검진 수검여부</th>\n",
              "      <th>데이터공개일자</th>\n",
              "    </tr>\n",
              "  </thead>\n",
              "  <tbody>\n",
              "    <tr>\n",
              "      <th>count</th>\n",
              "      <td>9996.0</td>\n",
              "      <td>9996.000000</td>\n",
              "      <td>9996.000000</td>\n",
              "      <td>9996.000000</td>\n",
              "      <td>9996.000000</td>\n",
              "      <td>9996.000000</td>\n",
              "      <td>9996.000000</td>\n",
              "      <td>9996.000000</td>\n",
              "      <td>9996.000000</td>\n",
              "      <td>9996.000000</td>\n",
              "      <td>9996.000000</td>\n",
              "      <td>9996.000000</td>\n",
              "      <td>9996.000000</td>\n",
              "      <td>9996.000000</td>\n",
              "      <td>9996.000000</td>\n",
              "      <td>9996.000000</td>\n",
              "      <td>9996.000000</td>\n",
              "      <td>9996.000000</td>\n",
              "      <td>9996.000000</td>\n",
              "      <td>9996.000000</td>\n",
              "      <td>9996.000000</td>\n",
              "      <td>9996.000000</td>\n",
              "      <td>9996.000000</td>\n",
              "      <td>9996.000000</td>\n",
              "      <td>9996.000000</td>\n",
              "      <td>9996.000000</td>\n",
              "      <td>9996.000000</td>\n",
              "      <td>9996.000000</td>\n",
              "      <td>9996.0</td>\n",
              "    </tr>\n",
              "    <tr>\n",
              "      <th>mean</th>\n",
              "      <td>2017.0</td>\n",
              "      <td>501659.454482</td>\n",
              "      <td>1.465086</td>\n",
              "      <td>10.577131</td>\n",
              "      <td>33.625050</td>\n",
              "      <td>162.264406</td>\n",
              "      <td>63.493898</td>\n",
              "      <td>81.350950</td>\n",
              "      <td>0.978631</td>\n",
              "      <td>0.971679</td>\n",
              "      <td>1.031212</td>\n",
              "      <td>1.030312</td>\n",
              "      <td>122.628451</td>\n",
              "      <td>76.170668</td>\n",
              "      <td>100.455782</td>\n",
              "      <td>196.230792</td>\n",
              "      <td>132.501701</td>\n",
              "      <td>56.871449</td>\n",
              "      <td>113.714486</td>\n",
              "      <td>14.248119</td>\n",
              "      <td>1.096939</td>\n",
              "      <td>0.863946</td>\n",
              "      <td>26.216887</td>\n",
              "      <td>25.742497</td>\n",
              "      <td>37.613345</td>\n",
              "      <td>1.614346</td>\n",
              "      <td>0.503902</td>\n",
              "      <td>0.393958</td>\n",
              "      <td>20181126.0</td>\n",
              "    </tr>\n",
              "    <tr>\n",
              "      <th>std</th>\n",
              "      <td>0.0</td>\n",
              "      <td>288887.534006</td>\n",
              "      <td>0.498804</td>\n",
              "      <td>2.835132</td>\n",
              "      <td>12.782823</td>\n",
              "      <td>9.466616</td>\n",
              "      <td>12.958743</td>\n",
              "      <td>9.720863</td>\n",
              "      <td>0.618407</td>\n",
              "      <td>0.583952</td>\n",
              "      <td>0.173900</td>\n",
              "      <td>0.171453</td>\n",
              "      <td>14.367046</td>\n",
              "      <td>9.786019</td>\n",
              "      <td>23.982016</td>\n",
              "      <td>38.267078</td>\n",
              "      <td>104.535802</td>\n",
              "      <td>14.906102</td>\n",
              "      <td>34.780206</td>\n",
              "      <td>1.585464</td>\n",
              "      <td>0.449898</td>\n",
              "      <td>0.368959</td>\n",
              "      <td>20.679971</td>\n",
              "      <td>21.421647</td>\n",
              "      <td>50.563295</td>\n",
              "      <td>0.818636</td>\n",
              "      <td>0.500010</td>\n",
              "      <td>0.488650</td>\n",
              "      <td>0.0</td>\n",
              "    </tr>\n",
              "    <tr>\n",
              "      <th>min</th>\n",
              "      <td>2017.0</td>\n",
              "      <td>79.000000</td>\n",
              "      <td>1.000000</td>\n",
              "      <td>5.000000</td>\n",
              "      <td>11.000000</td>\n",
              "      <td>125.000000</td>\n",
              "      <td>30.000000</td>\n",
              "      <td>52.000000</td>\n",
              "      <td>0.100000</td>\n",
              "      <td>0.100000</td>\n",
              "      <td>1.000000</td>\n",
              "      <td>1.000000</td>\n",
              "      <td>72.000000</td>\n",
              "      <td>46.000000</td>\n",
              "      <td>38.000000</td>\n",
              "      <td>79.000000</td>\n",
              "      <td>18.000000</td>\n",
              "      <td>10.000000</td>\n",
              "      <td>1.000000</td>\n",
              "      <td>6.300000</td>\n",
              "      <td>1.000000</td>\n",
              "      <td>0.100000</td>\n",
              "      <td>2.000000</td>\n",
              "      <td>3.000000</td>\n",
              "      <td>3.000000</td>\n",
              "      <td>1.000000</td>\n",
              "      <td>0.000000</td>\n",
              "      <td>0.000000</td>\n",
              "      <td>20181126.0</td>\n",
              "    </tr>\n",
              "    <tr>\n",
              "      <th>25%</th>\n",
              "      <td>2017.0</td>\n",
              "      <td>250564.500000</td>\n",
              "      <td>1.000000</td>\n",
              "      <td>9.000000</td>\n",
              "      <td>26.000000</td>\n",
              "      <td>155.000000</td>\n",
              "      <td>55.000000</td>\n",
              "      <td>75.000000</td>\n",
              "      <td>0.700000</td>\n",
              "      <td>0.700000</td>\n",
              "      <td>1.000000</td>\n",
              "      <td>1.000000</td>\n",
              "      <td>112.000000</td>\n",
              "      <td>70.000000</td>\n",
              "      <td>89.000000</td>\n",
              "      <td>170.000000</td>\n",
              "      <td>74.000000</td>\n",
              "      <td>46.000000</td>\n",
              "      <td>90.000000</td>\n",
              "      <td>13.200000</td>\n",
              "      <td>1.000000</td>\n",
              "      <td>0.700000</td>\n",
              "      <td>19.000000</td>\n",
              "      <td>15.000000</td>\n",
              "      <td>16.000000</td>\n",
              "      <td>1.000000</td>\n",
              "      <td>0.000000</td>\n",
              "      <td>0.000000</td>\n",
              "      <td>20181126.0</td>\n",
              "    </tr>\n",
              "    <tr>\n",
              "      <th>50%</th>\n",
              "      <td>2017.0</td>\n",
              "      <td>504182.000000</td>\n",
              "      <td>1.000000</td>\n",
              "      <td>11.000000</td>\n",
              "      <td>41.000000</td>\n",
              "      <td>160.000000</td>\n",
              "      <td>60.000000</td>\n",
              "      <td>81.000000</td>\n",
              "      <td>1.000000</td>\n",
              "      <td>1.000000</td>\n",
              "      <td>1.000000</td>\n",
              "      <td>1.000000</td>\n",
              "      <td>121.000000</td>\n",
              "      <td>76.000000</td>\n",
              "      <td>96.000000</td>\n",
              "      <td>194.000000</td>\n",
              "      <td>107.000000</td>\n",
              "      <td>55.000000</td>\n",
              "      <td>111.000000</td>\n",
              "      <td>14.300000</td>\n",
              "      <td>1.000000</td>\n",
              "      <td>0.800000</td>\n",
              "      <td>23.000000</td>\n",
              "      <td>20.000000</td>\n",
              "      <td>23.500000</td>\n",
              "      <td>1.000000</td>\n",
              "      <td>1.000000</td>\n",
              "      <td>0.000000</td>\n",
              "      <td>20181126.0</td>\n",
              "    </tr>\n",
              "    <tr>\n",
              "      <th>75%</th>\n",
              "      <td>2017.0</td>\n",
              "      <td>751431.750000</td>\n",
              "      <td>2.000000</td>\n",
              "      <td>13.000000</td>\n",
              "      <td>44.000000</td>\n",
              "      <td>170.000000</td>\n",
              "      <td>70.000000</td>\n",
              "      <td>88.000000</td>\n",
              "      <td>1.200000</td>\n",
              "      <td>1.200000</td>\n",
              "      <td>1.000000</td>\n",
              "      <td>1.000000</td>\n",
              "      <td>131.000000</td>\n",
              "      <td>82.000000</td>\n",
              "      <td>105.000000</td>\n",
              "      <td>220.000000</td>\n",
              "      <td>160.000000</td>\n",
              "      <td>66.000000</td>\n",
              "      <td>135.000000</td>\n",
              "      <td>15.400000</td>\n",
              "      <td>1.000000</td>\n",
              "      <td>1.000000</td>\n",
              "      <td>28.000000</td>\n",
              "      <td>30.000000</td>\n",
              "      <td>40.000000</td>\n",
              "      <td>2.000000</td>\n",
              "      <td>1.000000</td>\n",
              "      <td>1.000000</td>\n",
              "      <td>20181126.0</td>\n",
              "    </tr>\n",
              "    <tr>\n",
              "      <th>max</th>\n",
              "      <td>2017.0</td>\n",
              "      <td>999889.000000</td>\n",
              "      <td>2.000000</td>\n",
              "      <td>18.000000</td>\n",
              "      <td>50.000000</td>\n",
              "      <td>195.000000</td>\n",
              "      <td>150.000000</td>\n",
              "      <td>145.000000</td>\n",
              "      <td>9.900000</td>\n",
              "      <td>9.900000</td>\n",
              "      <td>2.000000</td>\n",
              "      <td>2.000000</td>\n",
              "      <td>207.000000</td>\n",
              "      <td>141.000000</td>\n",
              "      <td>429.000000</td>\n",
              "      <td>725.000000</td>\n",
              "      <td>3165.000000</td>\n",
              "      <td>144.000000</td>\n",
              "      <td>363.000000</td>\n",
              "      <td>19.900000</td>\n",
              "      <td>6.000000</td>\n",
              "      <td>16.300000</td>\n",
              "      <td>1282.000000</td>\n",
              "      <td>533.000000</td>\n",
              "      <td>999.000000</td>\n",
              "      <td>3.000000</td>\n",
              "      <td>1.000000</td>\n",
              "      <td>1.000000</td>\n",
              "      <td>20181126.0</td>\n",
              "    </tr>\n",
              "  </tbody>\n",
              "</table>\n",
              "</div>"
            ],
            "text/plain": [
              "         기준년도        가입자일련번호         성별코드  ...         음주여부    구강검진 수검여부     데이터공개일자\n",
              "count  9996.0    9996.000000  9996.000000  ...  9996.000000  9996.000000      9996.0\n",
              "mean   2017.0  501659.454482     1.465086  ...     0.503902     0.393958  20181126.0\n",
              "std       0.0  288887.534006     0.498804  ...     0.500010     0.488650         0.0\n",
              "min    2017.0      79.000000     1.000000  ...     0.000000     0.000000  20181126.0\n",
              "25%    2017.0  250564.500000     1.000000  ...     0.000000     0.000000  20181126.0\n",
              "50%    2017.0  504182.000000     1.000000  ...     1.000000     0.000000  20181126.0\n",
              "75%    2017.0  751431.750000     2.000000  ...     1.000000     1.000000  20181126.0\n",
              "max    2017.0  999889.000000     2.000000  ...     1.000000     1.000000  20181126.0\n",
              "\n",
              "[8 rows x 29 columns]"
            ]
          },
          "metadata": {
            "tags": []
          },
          "execution_count": 123
        }
      ]
    },
    {
      "cell_type": "markdown",
      "metadata": {
        "id": "-S0fWpQKmJYX"
      },
      "source": [
        "LDL의 최댓값이 363, 최소가 1, TG 최대가 3165, 감마지티피가 999인 것은 이상치로 보입니다. 이상치는 제거하겠습니다.\n",
        "\n",
        "---\n",
        "\n"
      ]
    },
    {
      "cell_type": "code",
      "metadata": {
        "id": "i6-6Toepmept"
      },
      "source": [
        "# 이상치 제거\n",
        "drop_index = df[(df['LDL콜레스테롤'] < 10) | (df['LDL콜레스테롤'] > 300) | (df['트리글리세라이드'] > 500) | (df['감마지티피'] > 300)].index\n",
        "df = df.drop(drop_index)"
      ],
      "execution_count": 149,
      "outputs": []
    },
    {
      "cell_type": "markdown",
      "metadata": {
        "id": "qMGQA9xUW2Uo"
      },
      "source": [
        "### 03. 모델링\n",
        "----\n"
      ]
    },
    {
      "cell_type": "code",
      "metadata": {
        "id": "Ku0PO4RLSapc",
        "colab": {
          "base_uri": "https://localhost:8080/"
        },
        "outputId": "f1c3a6b3-e0a7-4617-cf70-bd55f89f81b3"
      },
      "source": [
        "from sklearn.model_selection import train_test_split\n",
        "from sklearn.ensemble import RandomForestClassifier\n",
        "from xgboost import XGBClassifier\n",
        "\n",
        "X = df.drop('음주여부', axis=1)\n",
        "y = df['음주여부']\n",
        "\n",
        "X['성별코드'] = X['성별코드'].astype('str')\n",
        "X['흡연상태'] = X['흡연상태'].astype('str')\n",
        "\n",
        "X = pd.get_dummies(X)\n",
        "\n",
        "# train, test set 생성\n",
        "X_train, X_test, y_train, y_test = train_test_split(X, y, test_size=0.2)\n",
        "\n",
        "print(X_train.shape, X_test.shape, y_train.shape, y_test.shape)\n",
        "\n",
        "# feature importance를 확인하기 위한 model 생성\n",
        "# rf_clf = RandomForestClassifier(n_estimators=1000)\n",
        "rf_clf = XGBClassifier()\n",
        "rf_clf.fit(X_train, y_train)"
      ],
      "execution_count": 150,
      "outputs": [
        {
          "output_type": "stream",
          "text": [
            "(7882, 31) (1971, 31) (7882,) (1971,)\n"
          ],
          "name": "stdout"
        },
        {
          "output_type": "execute_result",
          "data": {
            "text/plain": [
              "XGBClassifier(base_score=0.5, booster='gbtree', colsample_bylevel=1,\n",
              "              colsample_bynode=1, colsample_bytree=1, gamma=0,\n",
              "              learning_rate=0.1, max_delta_step=0, max_depth=3,\n",
              "              min_child_weight=1, missing=None, n_estimators=100, n_jobs=1,\n",
              "              nthread=None, objective='binary:logistic', random_state=0,\n",
              "              reg_alpha=0, reg_lambda=1, scale_pos_weight=1, seed=None,\n",
              "              silent=None, subsample=1, verbosity=1)"
            ]
          },
          "metadata": {
            "tags": []
          },
          "execution_count": 150
        }
      ]
    },
    {
      "cell_type": "code",
      "metadata": {
        "colab": {
          "base_uri": "https://localhost:8080/",
          "height": 483
        },
        "id": "1JIuCACwZK1s",
        "outputId": "9f009765-20a1-4711-bf84-6fa675b3175a"
      },
      "source": [
        "# RandomForest Classifier의 feature importance 시각화\n",
        "plt.figure(figsize=(12, 8))\n",
        "sns.barplot(x=rf_clf.feature_importances_, y=X_train.columns)\n",
        "plt.show()"
      ],
      "execution_count": 151,
      "outputs": [
        {
          "output_type": "display_data",
          "data": {
            "image/png": "[encoded data removed]",
            "text/plain": [
              "<Figure size 864x576 with 1 Axes>"
            ]
          },
          "metadata": {
            "tags": [],
            "needs_background": "light"
          }
        }
      ]
    },
    {
      "cell_type": "markdown",
      "metadata": {
        "id": "FnZOmV95aNON"
      },
      "source": [
        "Randomforest classifier 결과에서 feature importance가 작은 '기준년도', '시도코드', '가입자일련번호', '청력(좌)', '청력(우)', '데이터공개일자' 컬럼은 drop하겠습니다."
      ]
    },
    {
      "cell_type": "code",
      "metadata": {
        "colab": {
          "base_uri": "https://localhost:8080/"
        },
        "id": "IMShrvHQXxJJ",
        "outputId": "605a26a2-6707-4e02-c324-fde30aea7626"
      },
      "source": [
        "X_train = X_train.drop(['기준년도', '시도코드', '가입자일련번호', '청력(좌)', '청력(우)', '데이터공개일자'], axis=1)\n",
        "X_test = X_test.drop(['기준년도', '시도코드', '가입자일련번호', '청력(좌)', '청력(우)', '데이터공개일자'], axis=1)\n",
        "\n",
        "print(X_train.columns)"
      ],
      "execution_count": 152,
      "outputs": [
        {
          "output_type": "stream",
          "text": [
            "Index(['연령대코드(5세단위)', '신장(5Cm단위)', '체중(5Kg 단위)', '허리둘레', '시력(좌)', '시력(우)',\n",
            "       '수축기혈압', '이완기혈압', '식전혈당(공복혈당)', '총콜레스테롤', '트리글리세라이드', 'HDL콜레스테롤',\n",
            "       'LDL콜레스테롤', '혈색소', '요단백', '혈청크레아티닌', '(혈청지오티)AST', '(혈청지오티)ALT',\n",
            "       '감마지티피', '구강검진 수검여부', '성별코드_1', '성별코드_2', '흡연상태_1.0', '흡연상태_2.0',\n",
            "       '흡연상태_3.0'],\n",
            "      dtype='object')\n"
          ],
          "name": "stdout"
        }
      ]
    },
    {
      "cell_type": "code",
      "metadata": {
        "id": "Il-yvncvau-1"
      },
      "source": [
        "import tensorflow as tf\n",
        "from tensorflow import keras\n",
        "\n",
        "tf.random.set_seed(42)\n",
        "input_shape = X_train.shape[1]\n",
        "\n",
        "model = keras.Sequential([\n",
        "  keras.layers.Dense(32, activation='swish', input_shape=[input_shape]),\n",
        "  keras.layers.Dropout(0.2),\n",
        "  keras.layers.Dense(128, activation='relu'),\n",
        "  keras.layers.Dropout(0.2),\n",
        "  keras.layers.Dense(256, activation='relu'),\n",
        "  keras.layers.Dropout(0.2),\n",
        "  keras.layers.Dense(16, activation='relu'),\n",
        "  keras.layers.Dropout(0.2),\n",
        "  keras.layers.Dense(1, activation='sigmoid')\n",
        "])"
      ],
      "execution_count": 153,
      "outputs": []
    },
    {
      "cell_type": "code",
      "metadata": {
        "id": "89Acfr96bEzA"
      },
      "source": [
        "# 모델 컴파일\n",
        "model.compile(optimizer='Adam', loss='binary_crossentropy', metrics=['accuracy'])"
      ],
      "execution_count": 154,
      "outputs": []
    },
    {
      "cell_type": "code",
      "metadata": {
        "colab": {
          "base_uri": "https://localhost:8080/"
        },
        "id": "V7lfPcjVbEv7",
        "outputId": "f688ee6b-6232-4193-806f-3efcc856cfe0"
      },
      "source": [
        "# 모델 요약\n",
        "model.summary()"
      ],
      "execution_count": 155,
      "outputs": [
        {
          "output_type": "stream",
          "text": [
            "Model: \"sequential_13\"\n",
            "_________________________________________________________________\n",
            "Layer (type)                 Output Shape              Param #   \n",
            "=================================================================\n",
            "dense_53 (Dense)             (None, 32)                832       \n",
            "_________________________________________________________________\n",
            "dropout_35 (Dropout)         (None, 32)                0         \n",
            "_________________________________________________________________\n",
            "dense_54 (Dense)             (None, 128)               4224      \n",
            "_________________________________________________________________\n",
            "dropout_36 (Dropout)         (None, 128)               0         \n",
            "_________________________________________________________________\n",
            "dense_55 (Dense)             (None, 256)               33024     \n",
            "_________________________________________________________________\n",
            "dropout_37 (Dropout)         (None, 256)               0         \n",
            "_________________________________________________________________\n",
            "dense_56 (Dense)             (None, 16)                4112      \n",
            "_________________________________________________________________\n",
            "dropout_38 (Dropout)         (None, 16)                0         \n",
            "_________________________________________________________________\n",
            "dense_57 (Dense)             (None, 1)                 17        \n",
            "=================================================================\n",
            "Total params: 42,209\n",
            "Trainable params: 42,209\n",
            "Non-trainable params: 0\n",
            "_________________________________________________________________\n"
          ],
          "name": "stdout"
        }
      ]
    },
    {
      "cell_type": "code",
      "metadata": {
        "id": "aOufERPBbErc"
      },
      "source": [
        "# train\n",
        "\n",
        "history = model.fit(X_train, y_train, epochs=300, verbose=0, validation_split=0.2)"
      ],
      "execution_count": 156,
      "outputs": []
    },
    {
      "cell_type": "code",
      "metadata": {
        "id": "gd5xIQbobD35"
      },
      "source": [
        "# 학습결과의 history 값을 가져와서 비교하기 위해 데이터프레임으로 변환\n",
        "df_hist = pd.DataFrame(history.history)"
      ],
      "execution_count": 157,
      "outputs": []
    },
    {
      "cell_type": "code",
      "metadata": {
        "colab": {
          "base_uri": "https://localhost:8080/",
          "height": 530
        },
        "id": "pSxLTa0AbP0B",
        "outputId": "e994a23c-99a1-47c3-d8d7-629c652a8508"
      },
      "source": [
        "# loss, accuracy 값 시각화 \n",
        "df_hist[['loss', 'val_loss']].plot()\n",
        "df_hist[['accuracy', 'val_accuracy']].plot()"
      ],
      "execution_count": 158,
      "outputs": [
        {
          "output_type": "execute_result",
          "data": {
            "text/plain": [
              "<matplotlib.axes._subplots.AxesSubplot at 0x7f26b199b350>"
            ]
          },
          "metadata": {
            "tags": []
          },
          "execution_count": 158
        },
        {
          "output_type": "display_data",
          "data": {
            "image/png": "[encoded data removed]",
            "text/plain": [
              "<Figure size 432x288 with 1 Axes>"
            ]
          },
          "metadata": {
            "tags": [],
            "needs_background": "light"
          }
        },
        {
          "output_type": "display_data",
          "data": {
            "image/png": "[encoded data removed]",
            "text/plain": [
              "<Figure size 432x288 with 1 Axes>"
            ]
          },
          "metadata": {
            "tags": [],
            "needs_background": "light"
          }
        }
      ]
    },
    {
      "cell_type": "markdown",
      "metadata": {
        "id": "DRffYQiFbWcy"
      },
      "source": [
        "### 04. 평가\n",
        "----"
      ]
    },
    {
      "cell_type": "code",
      "metadata": {
        "colab": {
          "base_uri": "https://localhost:8080/"
        },
        "id": "y56hd7ApbVgh",
        "outputId": "1ce7da36-d8db-4b2e-8ece-4eadda89d03f"
      },
      "source": [
        "test_loss, test_acc = model.evaluate(X_test, y_test, verbose=2)\n",
        "print('\\n테스트 정확도:', test_acc)"
      ],
      "execution_count": 159,
      "outputs": [
        {
          "output_type": "stream",
          "text": [
            "62/62 - 0s - loss: 0.5396 - accuracy: 0.7291\n",
            "\n",
            "테스트 정확도: 0.7290715575218201\n"
          ],
          "name": "stdout"
        }
      ]
    },
    {
      "cell_type": "code",
      "metadata": {
        "id": "CoQWNGtwplvQ"
      },
      "source": [
        ""
      ],
      "execution_count": 159,
      "outputs": []
    }
  ]
}