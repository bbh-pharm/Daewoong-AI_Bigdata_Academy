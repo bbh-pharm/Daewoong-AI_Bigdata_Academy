{
 "cells": [
  {
   "cell_type": "markdown",
   "metadata": {},
   "source": [
    "## 라이브러리 로드"
   ]
  },
  {
   "cell_type": "code",
   "execution_count": 1,
   "metadata": {},
   "outputs": [],
   "source": [
    "import pandas as pd\n",
    "import numpy as np\n",
    "import seaborn as sns\n",
    "\n",
    "import os"
   ]
  },
  {
   "cell_type": "markdown",
   "metadata": {},
   "source": [
    "## 파일목록에서 ursa가 들어가는 파일만 보기"
   ]
  },
  {
   "cell_type": "code",
   "execution_count": 2,
   "metadata": {},
   "outputs": [
    {
     "name": "stdout",
     "output_type": "stream",
     "text": [
      "['ursa_2011_1.csv', 'ursa_2011_2.csv', 'ursa_2012_1.csv', 'ursa_2012_2.csv', 'ursa_2013_1.csv', 'ursa_2013_2.csv', 'ursa_2014_1.csv', 'ursa_2014_2.csv', 'ursa_2015_1.csv', 'ursa_2015_2.csv', 'ursa_2016_1.csv', 'ursa_2016_2.csv', 'ursa_2017_1.csv', 'ursa_2017_2.csv', 'ursa_2017_3.csv', 'ursa_2018_1.csv', 'ursa_2018_2.csv', 'ursa_2018_3.csv', 'ursa_2019_1.csv', 'ursa_2019_2.csv', 'ursa_2019_3.csv']\n"
     ]
    }
   ],
   "source": [
    "# os.walk 를 통해 특정 폴더 안의 파일을 읽어옵니다.\n",
    "for root, dirs, files in os.walk(\"data/ursa/\"):\n",
    "    print(files)"
   ]
  },
  {
   "cell_type": "markdown",
   "metadata": {},
   "source": [
    "## 하나만 읽어오기"
   ]
  },
  {
   "cell_type": "code",
   "execution_count": 3,
   "metadata": {},
   "outputs": [
    {
     "data": {
      "text/plain": [
       "Index(['기준년도', '가입자일련번호', '처방내역일련번호', '일련번호', '성별코드', '연령대코드(5세단위)', '시도코드',\n",
       "       '요양개시일자', '약품일반성분명코드', '1회 투약량', '1일투약량', '총투여일수', '단가', '금액',\n",
       "       '데이터 공개일자'],\n",
       "      dtype='object')"
      ]
     },
     "execution_count": 3,
     "metadata": {},
     "output_type": "execute_result"
    }
   ],
   "source": [
    "pd.read_csv(\"data/ursa/ursa_2011_1.csv\").columns"
   ]
  },
  {
   "cell_type": "code",
   "execution_count": 4,
   "metadata": {},
   "outputs": [
    {
     "name": "stdout",
     "output_type": "stream",
     "text": [
      "15\n"
     ]
    },
    {
     "data": {
      "text/plain": [
       "Index(['기준년도', '가입자 일련번호', '처방내역일련번호', '일련번호', '성별코드', '연령대코드(5세단위)', '시도코드',\n",
       "       '요양개시일자', '약품일반성분명코드', '1회 투약량', '1일투약량', '총투여일수', '단가', '금액',\n",
       "       '데이터 공개일자'],\n",
       "      dtype='object')"
      ]
     },
     "execution_count": 4,
     "metadata": {},
     "output_type": "execute_result"
    }
   ],
   "source": [
    "# 최근 컬럼명을 가져옵니다.\n",
    "df_last_columns = pd.read_csv(\"data/ursa/ursa_2019_3.csv\")\n",
    "cols_last = df_last_columns.columns\n",
    "print(len(cols_last))\n",
    "cols_last"
   ]
  },
  {
   "cell_type": "code",
   "execution_count": 5,
   "metadata": {},
   "outputs": [
    {
     "name": "stdout",
     "output_type": "stream",
     "text": [
      "15\n"
     ]
    },
    {
     "data": {
      "text/plain": [
       "Index(['기준년도', '가입자일련번호', '처방내역일련번호', '일련번호', '성별코드', '연령대코드(5세단위)', '시도코드',\n",
       "       '요양개시일자', '약품일반성분명코드', '1회 투약량', '1일투약량', '총투여일수', '단가', '금액',\n",
       "       '데이터 공개일자'],\n",
       "      dtype='object')"
      ]
     },
     "execution_count": 5,
     "metadata": {},
     "output_type": "execute_result"
    }
   ],
   "source": [
    "# 최근 컬럼명을 가져옵니다.\n",
    "df_first_columns = pd.read_csv(\"data/ursa/ursa_2011_2.csv\")\n",
    "cols_first = df_first_columns.columns\n",
    "print(len(cols_first))\n",
    "cols_first"
   ]
  },
  {
   "cell_type": "markdown",
   "metadata": {},
   "source": [
    "### 다른 컬럼명이 있는지 확인하기\n",
    "* 다른 컬럼명이 있기 때문에 최근 컬럼명으로 통일합니다."
   ]
  },
  {
   "cell_type": "code",
   "execution_count": 7,
   "metadata": {},
   "outputs": [
    {
     "data": {
      "text/plain": [
       "{'가입자 일련번호'}"
      ]
     },
     "execution_count": 7,
     "metadata": {},
     "output_type": "execute_result"
    }
   ],
   "source": [
    "# set 을 통해 다른 컬럼이 있는지 비교하기\n",
    "set(cols_last) - set(cols_first)"
   ]
  },
  {
   "cell_type": "code",
   "execution_count": 8,
   "metadata": {},
   "outputs": [
    {
     "data": {
      "text/plain": [
       "Index(['기준년도', '가입자 일련번호', '처방내역일련번호', '일련번호', '성별코드', '연령대코드(5세단위)', '시도코드',\n",
       "       '요양개시일자', '약품일반성분명코드', '1회 투약량', '1일투약량', '총투여일수', '단가', '금액',\n",
       "       '데이터 공개일자'],\n",
       "      dtype='object')"
      ]
     },
     "execution_count": 8,
     "metadata": {},
     "output_type": "execute_result"
    }
   ],
   "source": [
    "# 최근 컬럼명을 컬럼명으로 사용하기\n",
    "cols = cols_last\n",
    "cols"
   ]
  },
  {
   "cell_type": "markdown",
   "metadata": {},
   "source": [
    "## 연도별 파일목록 가져오기"
   ]
  },
  {
   "cell_type": "code",
   "execution_count": 9,
   "metadata": {},
   "outputs": [
    {
     "name": "stdout",
     "output_type": "stream",
     "text": [
      "ursa_2011_1.csv\n",
      "ursa_2011_2.csv\n",
      "ursa_2012_1.csv\n",
      "ursa_2012_2.csv\n",
      "ursa_2013_1.csv\n",
      "ursa_2013_2.csv\n",
      "ursa_2014_1.csv\n",
      "ursa_2014_2.csv\n",
      "ursa_2015_1.csv\n",
      "ursa_2015_2.csv\n",
      "ursa_2016_1.csv\n",
      "ursa_2016_2.csv\n",
      "ursa_2017_1.csv\n",
      "ursa_2017_2.csv\n",
      "ursa_2017_3.csv\n",
      "ursa_2018_1.csv\n",
      "ursa_2018_2.csv\n",
      "ursa_2018_3.csv\n",
      "ursa_2019_1.csv\n",
      "ursa_2019_2.csv\n",
      "ursa_2019_3.csv\n"
     ]
    }
   ],
   "source": [
    "for root, dirs, files in os.walk(\"data/ursa/\"):\n",
    "        for filename in files:\n",
    "            print(filename)"
   ]
  },
  {
   "cell_type": "code",
   "execution_count": 11,
   "metadata": {},
   "outputs": [
    {
     "data": {
      "text/plain": [
       "['ursa_2011_1.csv', 'ursa_2011_2.csv']"
      ]
     },
     "execution_count": 11,
     "metadata": {},
     "output_type": "execute_result"
    }
   ],
   "source": [
    "def get_file_list_by_year(year):\n",
    "    file_list = []\n",
    "    for root, dirs, files in os.walk(\"data/ursa/\"):\n",
    "        for filename in files:\n",
    "            # 파일명이 \"ursa\" 로 시작하는 것만 가져오기\n",
    "            if filename.startswith(f'ursa_{year}'):\n",
    "                file_list.append(filename)\n",
    "    return sorted(file_list)\n",
    "\n",
    "get_file_list_by_year(2011)"
   ]
  },
  {
   "cell_type": "markdown",
   "metadata": {},
   "source": [
    "## 특정 연도가 들어가는 파일 읽어오기"
   ]
  },
  {
   "cell_type": "code",
   "execution_count": 14,
   "metadata": {},
   "outputs": [],
   "source": [
    "# 파일을 읽어오는 함수를 만듭니다.\n",
    "# 특정 글자로 시작하는 파일을 읽어와서 데이터프레임 형태로 반환합니다.\n",
    "# 데이터가 없다면 비어있는 데이터프레임을 반환합니다.\n",
    "def read_file(filename, year):\n",
    "    folder_path = 'data/ursa/'\n",
    "    # 파일명이 ursa 로 시작하고 csv 로 끝나는 파일만 가져오기\n",
    "    if filename.startswith(f'ursa_{year}') and filename.endswith(f'csv'):\n",
    "        df_temp = pd.read_csv(f\"{folder_path}{filename}\")\n",
    "        df_temp.columns = cols\n",
    "    else:\n",
    "        df_temp = pd.DataFrame([])\n",
    "    return  df_temp"
   ]
  },
  {
   "cell_type": "code",
   "execution_count": 15,
   "metadata": {},
   "outputs": [
    {
     "data": {
      "text/html": [
       "<div>\n",
       "<style scoped>\n",
       "    .dataframe tbody tr th:only-of-type {\n",
       "        vertical-align: middle;\n",
       "    }\n",
       "\n",
       "    .dataframe tbody tr th {\n",
       "        vertical-align: top;\n",
       "    }\n",
       "\n",
       "    .dataframe thead th {\n",
       "        text-align: right;\n",
       "    }\n",
       "</style>\n",
       "<table border=\"1\" class=\"dataframe\">\n",
       "  <thead>\n",
       "    <tr style=\"text-align: right;\">\n",
       "      <th></th>\n",
       "      <th>기준년도</th>\n",
       "      <th>가입자 일련번호</th>\n",
       "      <th>처방내역일련번호</th>\n",
       "      <th>일련번호</th>\n",
       "      <th>성별코드</th>\n",
       "      <th>연령대코드(5세단위)</th>\n",
       "      <th>시도코드</th>\n",
       "      <th>요양개시일자</th>\n",
       "      <th>약품일반성분명코드</th>\n",
       "      <th>1회 투약량</th>\n",
       "      <th>1일투약량</th>\n",
       "      <th>총투여일수</th>\n",
       "      <th>단가</th>\n",
       "      <th>금액</th>\n",
       "      <th>데이터 공개일자</th>\n",
       "    </tr>\n",
       "  </thead>\n",
       "  <tbody>\n",
       "    <tr>\n",
       "      <th>0</th>\n",
       "      <td>2011</td>\n",
       "      <td>263152</td>\n",
       "      <td>301</td>\n",
       "      <td>3</td>\n",
       "      <td>1</td>\n",
       "      <td>12</td>\n",
       "      <td>41</td>\n",
       "      <td>20111109</td>\n",
       "      <td>246501ATB</td>\n",
       "      <td>1.0</td>\n",
       "      <td>3</td>\n",
       "      <td>3</td>\n",
       "      <td>111</td>\n",
       "      <td>999</td>\n",
       "      <td>20151220</td>\n",
       "    </tr>\n",
       "    <tr>\n",
       "      <th>1</th>\n",
       "      <td>2011</td>\n",
       "      <td>142227</td>\n",
       "      <td>310</td>\n",
       "      <td>4</td>\n",
       "      <td>1</td>\n",
       "      <td>14</td>\n",
       "      <td>41</td>\n",
       "      <td>20111125</td>\n",
       "      <td>246501ATB</td>\n",
       "      <td>1.0</td>\n",
       "      <td>3</td>\n",
       "      <td>7</td>\n",
       "      <td>111</td>\n",
       "      <td>2331</td>\n",
       "      <td>20151220</td>\n",
       "    </tr>\n",
       "    <tr>\n",
       "      <th>2</th>\n",
       "      <td>2011</td>\n",
       "      <td>253952</td>\n",
       "      <td>1013</td>\n",
       "      <td>1</td>\n",
       "      <td>2</td>\n",
       "      <td>9</td>\n",
       "      <td>46</td>\n",
       "      <td>20111203</td>\n",
       "      <td>246502ATB</td>\n",
       "      <td>1.0</td>\n",
       "      <td>3</td>\n",
       "      <td>14</td>\n",
       "      <td>165</td>\n",
       "      <td>6930</td>\n",
       "      <td>20151220</td>\n",
       "    </tr>\n",
       "    <tr>\n",
       "      <th>3</th>\n",
       "      <td>2011</td>\n",
       "      <td>253952</td>\n",
       "      <td>1014</td>\n",
       "      <td>3</td>\n",
       "      <td>2</td>\n",
       "      <td>9</td>\n",
       "      <td>46</td>\n",
       "      <td>20111219</td>\n",
       "      <td>246502ATB</td>\n",
       "      <td>1.0</td>\n",
       "      <td>3</td>\n",
       "      <td>14</td>\n",
       "      <td>165</td>\n",
       "      <td>6930</td>\n",
       "      <td>20151220</td>\n",
       "    </tr>\n",
       "    <tr>\n",
       "      <th>4</th>\n",
       "      <td>2011</td>\n",
       "      <td>703334</td>\n",
       "      <td>2563</td>\n",
       "      <td>2</td>\n",
       "      <td>1</td>\n",
       "      <td>10</td>\n",
       "      <td>48</td>\n",
       "      <td>20111205</td>\n",
       "      <td>246501ATB</td>\n",
       "      <td>1.0</td>\n",
       "      <td>1</td>\n",
       "      <td>30</td>\n",
       "      <td>111</td>\n",
       "      <td>3330</td>\n",
       "      <td>20151220</td>\n",
       "    </tr>\n",
       "    <tr>\n",
       "      <th>...</th>\n",
       "      <td>...</td>\n",
       "      <td>...</td>\n",
       "      <td>...</td>\n",
       "      <td>...</td>\n",
       "      <td>...</td>\n",
       "      <td>...</td>\n",
       "      <td>...</td>\n",
       "      <td>...</td>\n",
       "      <td>...</td>\n",
       "      <td>...</td>\n",
       "      <td>...</td>\n",
       "      <td>...</td>\n",
       "      <td>...</td>\n",
       "      <td>...</td>\n",
       "      <td>...</td>\n",
       "    </tr>\n",
       "    <tr>\n",
       "      <th>19522</th>\n",
       "      <td>2011</td>\n",
       "      <td>800942</td>\n",
       "      <td>3956010</td>\n",
       "      <td>2</td>\n",
       "      <td>1</td>\n",
       "      <td>13</td>\n",
       "      <td>42</td>\n",
       "      <td>20110215</td>\n",
       "      <td>246502ATB</td>\n",
       "      <td>1.0</td>\n",
       "      <td>2</td>\n",
       "      <td>30</td>\n",
       "      <td>264</td>\n",
       "      <td>15840</td>\n",
       "      <td>20151220</td>\n",
       "    </tr>\n",
       "    <tr>\n",
       "      <th>19523</th>\n",
       "      <td>2011</td>\n",
       "      <td>676116</td>\n",
       "      <td>3956589</td>\n",
       "      <td>1</td>\n",
       "      <td>2</td>\n",
       "      <td>10</td>\n",
       "      <td>48</td>\n",
       "      <td>20110829</td>\n",
       "      <td>246502ATB</td>\n",
       "      <td>1.0</td>\n",
       "      <td>3</td>\n",
       "      <td>30</td>\n",
       "      <td>246</td>\n",
       "      <td>22140</td>\n",
       "      <td>20151220</td>\n",
       "    </tr>\n",
       "    <tr>\n",
       "      <th>19524</th>\n",
       "      <td>2011</td>\n",
       "      <td>420833</td>\n",
       "      <td>3956594</td>\n",
       "      <td>5</td>\n",
       "      <td>2</td>\n",
       "      <td>15</td>\n",
       "      <td>48</td>\n",
       "      <td>20110806</td>\n",
       "      <td>246502ATB</td>\n",
       "      <td>1.0</td>\n",
       "      <td>2</td>\n",
       "      <td>15</td>\n",
       "      <td>246</td>\n",
       "      <td>7380</td>\n",
       "      <td>20151220</td>\n",
       "    </tr>\n",
       "    <tr>\n",
       "      <th>19525</th>\n",
       "      <td>2011</td>\n",
       "      <td>692899</td>\n",
       "      <td>3957147</td>\n",
       "      <td>7</td>\n",
       "      <td>2</td>\n",
       "      <td>13</td>\n",
       "      <td>48</td>\n",
       "      <td>20110827</td>\n",
       "      <td>246501ATB</td>\n",
       "      <td>1.0</td>\n",
       "      <td>3</td>\n",
       "      <td>15</td>\n",
       "      <td>111</td>\n",
       "      <td>4995</td>\n",
       "      <td>20151220</td>\n",
       "    </tr>\n",
       "    <tr>\n",
       "      <th>19526</th>\n",
       "      <td>2011</td>\n",
       "      <td>880330</td>\n",
       "      <td>3957910</td>\n",
       "      <td>2</td>\n",
       "      <td>1</td>\n",
       "      <td>11</td>\n",
       "      <td>41</td>\n",
       "      <td>20110304</td>\n",
       "      <td>246502ATB</td>\n",
       "      <td>1.0</td>\n",
       "      <td>2</td>\n",
       "      <td>30</td>\n",
       "      <td>166</td>\n",
       "      <td>9960</td>\n",
       "      <td>20151220</td>\n",
       "    </tr>\n",
       "  </tbody>\n",
       "</table>\n",
       "<p>19527 rows × 15 columns</p>\n",
       "</div>"
      ],
      "text/plain": [
       "       기준년도  가입자 일련번호  처방내역일련번호  일련번호  성별코드  연령대코드(5세단위)  시도코드    요양개시일자  \\\n",
       "0      2011    263152       301     3     1           12    41  20111109   \n",
       "1      2011    142227       310     4     1           14    41  20111125   \n",
       "2      2011    253952      1013     1     2            9    46  20111203   \n",
       "3      2011    253952      1014     3     2            9    46  20111219   \n",
       "4      2011    703334      2563     2     1           10    48  20111205   \n",
       "...     ...       ...       ...   ...   ...          ...   ...       ...   \n",
       "19522  2011    800942   3956010     2     1           13    42  20110215   \n",
       "19523  2011    676116   3956589     1     2           10    48  20110829   \n",
       "19524  2011    420833   3956594     5     2           15    48  20110806   \n",
       "19525  2011    692899   3957147     7     2           13    48  20110827   \n",
       "19526  2011    880330   3957910     2     1           11    41  20110304   \n",
       "\n",
       "       약품일반성분명코드  1회 투약량  1일투약량  총투여일수   단가     금액  데이터 공개일자  \n",
       "0      246501ATB     1.0      3      3  111    999  20151220  \n",
       "1      246501ATB     1.0      3      7  111   2331  20151220  \n",
       "2      246502ATB     1.0      3     14  165   6930  20151220  \n",
       "3      246502ATB     1.0      3     14  165   6930  20151220  \n",
       "4      246501ATB     1.0      1     30  111   3330  20151220  \n",
       "...          ...     ...    ...    ...  ...    ...       ...  \n",
       "19522  246502ATB     1.0      2     30  264  15840  20151220  \n",
       "19523  246502ATB     1.0      3     30  246  22140  20151220  \n",
       "19524  246502ATB     1.0      2     15  246   7380  20151220  \n",
       "19525  246501ATB     1.0      3     15  111   4995  20151220  \n",
       "19526  246502ATB     1.0      2     30  166   9960  20151220  \n",
       "\n",
       "[19527 rows x 15 columns]"
      ]
     },
     "execution_count": 15,
     "metadata": {},
     "output_type": "execute_result"
    }
   ],
   "source": [
    "read_file(\"ursa_2011_1.csv\", 2011)"
   ]
  },
  {
   "cell_type": "markdown",
   "metadata": {},
   "source": [
    "## 여러 연도의 파일 하나로 합치기"
   ]
  },
  {
   "cell_type": "code",
   "execution_count": 22,
   "metadata": {},
   "outputs": [],
   "source": [
    "def concat_data(year):\n",
    "    df_lists = []\n",
    "    # 파일별로 데이터를 가져옵니다.\n",
    "    files = get_file_list_by_year(year)\n",
    "    for filename in sorted(files):\n",
    "        # 파일을 읽어옵니다.\n",
    "        df_temp = read_file(filename, year)\n",
    "        # 해당 데이터프레임이 비어있지 않다면 병합하기 위해 리스트에 담습니다.\n",
    "        if not df_temp.empty :\n",
    "            print(filename, df_temp.shape)\n",
    "            df_lists.append(df_temp)\n",
    "    # 리스트가 비어있지 않다면 데이터프레임을 합쳐줍니다.\n",
    "    if df_lists :    \n",
    "        df = pd.concat(df_lists)\n",
    "    return df        "
   ]
  },
  {
   "cell_type": "markdown",
   "metadata": {},
   "source": [
    "## 일부 데이터를 연도별로 합쳐봅니다."
   ]
  },
  {
   "cell_type": "code",
   "execution_count": 23,
   "metadata": {},
   "outputs": [
    {
     "name": "stdout",
     "output_type": "stream",
     "text": [
      "ursa_2011_1.csv (19527, 15)\n",
      "ursa_2011_2.csv (16185, 15)\n"
     ]
    },
    {
     "data": {
      "text/plain": [
       "(35712, 15)"
      ]
     },
     "execution_count": 23,
     "metadata": {},
     "output_type": "execute_result"
    }
   ],
   "source": [
    "df_2011 = concat_data(2011)\n",
    "df_2011.shape"
   ]
  },
  {
   "cell_type": "code",
   "execution_count": 24,
   "metadata": {},
   "outputs": [
    {
     "name": "stdout",
     "output_type": "stream",
     "text": [
      "ursa_2019_1.csv (33611, 15)\n",
      "ursa_2019_2.csv (33093, 15)\n",
      "ursa_2019_3.csv (29350, 15)\n"
     ]
    },
    {
     "data": {
      "text/plain": [
       "(96054, 15)"
      ]
     },
     "execution_count": 24,
     "metadata": {},
     "output_type": "execute_result"
    }
   ],
   "source": [
    "df_2019 = concat_data(2019)\n",
    "df_2019.shape"
   ]
  },
  {
   "cell_type": "markdown",
   "metadata": {},
   "source": [
    "## 전체 데이터를 반복문으로 합칩니다."
   ]
  },
  {
   "cell_type": "code",
   "execution_count": 25,
   "metadata": {},
   "outputs": [
    {
     "name": "stdout",
     "output_type": "stream",
     "text": [
      "ursa_2011_1.csv (19527, 15)\n",
      "ursa_2011_2.csv (16185, 15)\n",
      "ursa_2012_1.csv (20595, 15)\n",
      "ursa_2012_2.csv (18657, 15)\n",
      "ursa_2013_1.csv (22908, 15)\n",
      "ursa_2013_2.csv (19752, 15)\n",
      "ursa_2014_1.csv (21008, 15)\n",
      "ursa_2014_2.csv (20595, 15)\n",
      "ursa_2015_1.csv (23844, 15)\n",
      "ursa_2015_2.csv (22167, 15)\n",
      "ursa_2016_1.csv (32800, 15)\n",
      "ursa_2016_2.csv (30889, 15)\n",
      "ursa_2017_1.csv (27648, 15)\n",
      "ursa_2017_2.csv (28461, 15)\n",
      "ursa_2017_3.csv (17042, 15)\n",
      "ursa_2018_1.csv (28280, 15)\n",
      "ursa_2018_2.csv (28506, 15)\n",
      "ursa_2018_3.csv (24607, 15)\n",
      "ursa_2019_1.csv (33611, 15)\n",
      "ursa_2019_2.csv (33093, 15)\n",
      "ursa_2019_3.csv (29350, 15)\n",
      "(519525, 15)\n"
     ]
    }
   ],
   "source": [
    "# concat은 합칠 데이터를 리스트형태로 담아주면 하나의 데이터프레임으로 합쳐줍니다.\n",
    "# 하나의 데이터프레임으로 합치기 위한 리스트를 만듭니다.\n",
    "# for문을 통해 읽어온 연도별 데이터프레임을 리스트에 담습니다.\n",
    "# for문 종료 후 리스트 파일을 판다스의 concat을 사용해서 합칩니다.\n",
    "df_temp_list = []\n",
    "for year in range(2011, 2020):\n",
    "    df_temp = concat_data(year)\n",
    "    df_temp_list.append(df_temp)\n",
    "\n",
    "df_concat = pd.concat(df_temp_list)\n",
    "print(df_concat.shape)"
   ]
  },
  {
   "cell_type": "markdown",
   "metadata": {},
   "source": [
    "## 합친파일을 별도의 파일로 저장합니다."
   ]
  },
  {
   "cell_type": "code",
   "execution_count": 26,
   "metadata": {},
   "outputs": [],
   "source": [
    "file_name = \"data/medicine_ursa_godex_2011_2019.csv\"\n",
    "df_concat.to_csv(file_name, index=False)"
   ]
  },
  {
   "cell_type": "markdown",
   "metadata": {},
   "source": [
    "## 제대로 저장되었는지 읽어옵니다."
   ]
  },
  {
   "cell_type": "code",
   "execution_count": 27,
   "metadata": {},
   "outputs": [
    {
     "data": {
      "text/plain": [
       "(519525, 15)"
      ]
     },
     "execution_count": 27,
     "metadata": {},
     "output_type": "execute_result"
    }
   ],
   "source": [
    "# file_name 의 변수에 있는 파일명을 통해 csv 파일을 읽어옵니다.\n",
    "df = pd.read_csv(file_name)\n",
    "df.shape"
   ]
  },
  {
   "cell_type": "code",
   "execution_count": 28,
   "metadata": {},
   "outputs": [
    {
     "data": {
      "text/plain": [
       "(519525, 15)"
      ]
     },
     "execution_count": 28,
     "metadata": {},
     "output_type": "execute_result"
    }
   ],
   "source": [
    "# 중복된 데이터가 있다면 drop_duplicates()를 통해 제거할 수 있습니다.\n",
    "df = df.drop_duplicates()\n",
    "df.shape"
   ]
  },
  {
   "cell_type": "code",
   "execution_count": 29,
   "metadata": {},
   "outputs": [
    {
     "data": {
      "text/plain": [
       "2019    96054\n",
       "2018    81393\n",
       "2017    73151\n",
       "2016    63689\n",
       "2015    46011\n",
       "2013    42660\n",
       "2014    41603\n",
       "2012    39252\n",
       "2011    35712\n",
       "Name: 기준년도, dtype: int64"
      ]
     },
     "execution_count": 29,
     "metadata": {},
     "output_type": "execute_result"
    }
   ],
   "source": [
    "# 연도별 빈도수를 세어봅니다.\n",
    "df[\"기준년도\"].value_counts()"
   ]
  },
  {
   "cell_type": "code",
   "execution_count": 30,
   "metadata": {},
   "outputs": [
    {
     "data": {
      "text/html": [
       "<div>\n",
       "<style scoped>\n",
       "    .dataframe tbody tr th:only-of-type {\n",
       "        vertical-align: middle;\n",
       "    }\n",
       "\n",
       "    .dataframe tbody tr th {\n",
       "        vertical-align: top;\n",
       "    }\n",
       "\n",
       "    .dataframe thead th {\n",
       "        text-align: right;\n",
       "    }\n",
       "</style>\n",
       "<table border=\"1\" class=\"dataframe\">\n",
       "  <thead>\n",
       "    <tr style=\"text-align: right;\">\n",
       "      <th></th>\n",
       "      <th>기준년도</th>\n",
       "      <th>가입자 일련번호</th>\n",
       "      <th>처방내역일련번호</th>\n",
       "      <th>일련번호</th>\n",
       "      <th>성별코드</th>\n",
       "      <th>연령대코드(5세단위)</th>\n",
       "      <th>시도코드</th>\n",
       "      <th>요양개시일자</th>\n",
       "      <th>약품일반성분명코드</th>\n",
       "      <th>1회 투약량</th>\n",
       "      <th>1일투약량</th>\n",
       "      <th>총투여일수</th>\n",
       "      <th>단가</th>\n",
       "      <th>금액</th>\n",
       "      <th>데이터 공개일자</th>\n",
       "    </tr>\n",
       "  </thead>\n",
       "  <tbody>\n",
       "    <tr>\n",
       "      <th>0</th>\n",
       "      <td>2011</td>\n",
       "      <td>263152</td>\n",
       "      <td>301</td>\n",
       "      <td>3</td>\n",
       "      <td>1</td>\n",
       "      <td>12</td>\n",
       "      <td>41</td>\n",
       "      <td>20111109</td>\n",
       "      <td>246501ATB</td>\n",
       "      <td>1.0</td>\n",
       "      <td>3</td>\n",
       "      <td>3</td>\n",
       "      <td>111.0</td>\n",
       "      <td>999</td>\n",
       "      <td>20151220</td>\n",
       "    </tr>\n",
       "    <tr>\n",
       "      <th>1</th>\n",
       "      <td>2011</td>\n",
       "      <td>142227</td>\n",
       "      <td>310</td>\n",
       "      <td>4</td>\n",
       "      <td>1</td>\n",
       "      <td>14</td>\n",
       "      <td>41</td>\n",
       "      <td>20111125</td>\n",
       "      <td>246501ATB</td>\n",
       "      <td>1.0</td>\n",
       "      <td>3</td>\n",
       "      <td>7</td>\n",
       "      <td>111.0</td>\n",
       "      <td>2331</td>\n",
       "      <td>20151220</td>\n",
       "    </tr>\n",
       "    <tr>\n",
       "      <th>2</th>\n",
       "      <td>2011</td>\n",
       "      <td>253952</td>\n",
       "      <td>1013</td>\n",
       "      <td>1</td>\n",
       "      <td>2</td>\n",
       "      <td>9</td>\n",
       "      <td>46</td>\n",
       "      <td>20111203</td>\n",
       "      <td>246502ATB</td>\n",
       "      <td>1.0</td>\n",
       "      <td>3</td>\n",
       "      <td>14</td>\n",
       "      <td>165.0</td>\n",
       "      <td>6930</td>\n",
       "      <td>20151220</td>\n",
       "    </tr>\n",
       "    <tr>\n",
       "      <th>3</th>\n",
       "      <td>2011</td>\n",
       "      <td>253952</td>\n",
       "      <td>1014</td>\n",
       "      <td>3</td>\n",
       "      <td>2</td>\n",
       "      <td>9</td>\n",
       "      <td>46</td>\n",
       "      <td>20111219</td>\n",
       "      <td>246502ATB</td>\n",
       "      <td>1.0</td>\n",
       "      <td>3</td>\n",
       "      <td>14</td>\n",
       "      <td>165.0</td>\n",
       "      <td>6930</td>\n",
       "      <td>20151220</td>\n",
       "    </tr>\n",
       "    <tr>\n",
       "      <th>4</th>\n",
       "      <td>2011</td>\n",
       "      <td>703334</td>\n",
       "      <td>2563</td>\n",
       "      <td>2</td>\n",
       "      <td>1</td>\n",
       "      <td>10</td>\n",
       "      <td>48</td>\n",
       "      <td>20111205</td>\n",
       "      <td>246501ATB</td>\n",
       "      <td>1.0</td>\n",
       "      <td>1</td>\n",
       "      <td>30</td>\n",
       "      <td>111.0</td>\n",
       "      <td>3330</td>\n",
       "      <td>20151220</td>\n",
       "    </tr>\n",
       "  </tbody>\n",
       "</table>\n",
       "</div>"
      ],
      "text/plain": [
       "   기준년도  가입자 일련번호  처방내역일련번호  일련번호  성별코드  연령대코드(5세단위)  시도코드    요양개시일자  \\\n",
       "0  2011    263152       301     3     1           12    41  20111109   \n",
       "1  2011    142227       310     4     1           14    41  20111125   \n",
       "2  2011    253952      1013     1     2            9    46  20111203   \n",
       "3  2011    253952      1014     3     2            9    46  20111219   \n",
       "4  2011    703334      2563     2     1           10    48  20111205   \n",
       "\n",
       "   약품일반성분명코드  1회 투약량  1일투약량  총투여일수     단가    금액  데이터 공개일자  \n",
       "0  246501ATB     1.0      3      3  111.0   999  20151220  \n",
       "1  246501ATB     1.0      3      7  111.0  2331  20151220  \n",
       "2  246502ATB     1.0      3     14  165.0  6930  20151220  \n",
       "3  246502ATB     1.0      3     14  165.0  6930  20151220  \n",
       "4  246501ATB     1.0      1     30  111.0  3330  20151220  "
      ]
     },
     "execution_count": 30,
     "metadata": {},
     "output_type": "execute_result"
    }
   ],
   "source": [
    "df.head()"
   ]
  },
  {
   "cell_type": "code",
   "execution_count": 31,
   "metadata": {},
   "outputs": [
    {
     "data": {
      "text/html": [
       "<div>\n",
       "<style scoped>\n",
       "    .dataframe tbody tr th:only-of-type {\n",
       "        vertical-align: middle;\n",
       "    }\n",
       "\n",
       "    .dataframe tbody tr th {\n",
       "        vertical-align: top;\n",
       "    }\n",
       "\n",
       "    .dataframe thead th {\n",
       "        text-align: right;\n",
       "    }\n",
       "</style>\n",
       "<table border=\"1\" class=\"dataframe\">\n",
       "  <thead>\n",
       "    <tr style=\"text-align: right;\">\n",
       "      <th></th>\n",
       "      <th>기준년도</th>\n",
       "      <th>가입자 일련번호</th>\n",
       "      <th>처방내역일련번호</th>\n",
       "      <th>일련번호</th>\n",
       "      <th>성별코드</th>\n",
       "      <th>연령대코드(5세단위)</th>\n",
       "      <th>시도코드</th>\n",
       "      <th>요양개시일자</th>\n",
       "      <th>약품일반성분명코드</th>\n",
       "      <th>1회 투약량</th>\n",
       "      <th>1일투약량</th>\n",
       "      <th>총투여일수</th>\n",
       "      <th>단가</th>\n",
       "      <th>금액</th>\n",
       "      <th>데이터 공개일자</th>\n",
       "    </tr>\n",
       "  </thead>\n",
       "  <tbody>\n",
       "    <tr>\n",
       "      <th>519520</th>\n",
       "      <td>2019</td>\n",
       "      <td>999868</td>\n",
       "      <td>108936966</td>\n",
       "      <td>3</td>\n",
       "      <td>2</td>\n",
       "      <td>12</td>\n",
       "      <td>41</td>\n",
       "      <td>20190725</td>\n",
       "      <td>427800ACH</td>\n",
       "      <td>1.0</td>\n",
       "      <td>1</td>\n",
       "      <td>60</td>\n",
       "      <td>402.0</td>\n",
       "      <td>24120</td>\n",
       "      <td>20201222</td>\n",
       "    </tr>\n",
       "    <tr>\n",
       "      <th>519521</th>\n",
       "      <td>2019</td>\n",
       "      <td>999868</td>\n",
       "      <td>106182011</td>\n",
       "      <td>3</td>\n",
       "      <td>2</td>\n",
       "      <td>12</td>\n",
       "      <td>41</td>\n",
       "      <td>20190916</td>\n",
       "      <td>427800ACH</td>\n",
       "      <td>1.0</td>\n",
       "      <td>1</td>\n",
       "      <td>50</td>\n",
       "      <td>388.0</td>\n",
       "      <td>19400</td>\n",
       "      <td>20201222</td>\n",
       "    </tr>\n",
       "    <tr>\n",
       "      <th>519522</th>\n",
       "      <td>2019</td>\n",
       "      <td>999868</td>\n",
       "      <td>108375768</td>\n",
       "      <td>3</td>\n",
       "      <td>2</td>\n",
       "      <td>12</td>\n",
       "      <td>41</td>\n",
       "      <td>20190408</td>\n",
       "      <td>427800ACH</td>\n",
       "      <td>1.0</td>\n",
       "      <td>1</td>\n",
       "      <td>50</td>\n",
       "      <td>402.0</td>\n",
       "      <td>20100</td>\n",
       "      <td>20201222</td>\n",
       "    </tr>\n",
       "    <tr>\n",
       "      <th>519523</th>\n",
       "      <td>2019</td>\n",
       "      <td>999868</td>\n",
       "      <td>100117993</td>\n",
       "      <td>3</td>\n",
       "      <td>2</td>\n",
       "      <td>12</td>\n",
       "      <td>41</td>\n",
       "      <td>20191115</td>\n",
       "      <td>427800ACH</td>\n",
       "      <td>1.0</td>\n",
       "      <td>1</td>\n",
       "      <td>60</td>\n",
       "      <td>388.0</td>\n",
       "      <td>23280</td>\n",
       "      <td>20201222</td>\n",
       "    </tr>\n",
       "    <tr>\n",
       "      <th>519524</th>\n",
       "      <td>2019</td>\n",
       "      <td>999868</td>\n",
       "      <td>104284780</td>\n",
       "      <td>3</td>\n",
       "      <td>2</td>\n",
       "      <td>12</td>\n",
       "      <td>41</td>\n",
       "      <td>20190530</td>\n",
       "      <td>427800ACH</td>\n",
       "      <td>1.0</td>\n",
       "      <td>1</td>\n",
       "      <td>60</td>\n",
       "      <td>402.0</td>\n",
       "      <td>24120</td>\n",
       "      <td>20201222</td>\n",
       "    </tr>\n",
       "  </tbody>\n",
       "</table>\n",
       "</div>"
      ],
      "text/plain": [
       "        기준년도  가입자 일련번호   처방내역일련번호  일련번호  성별코드  연령대코드(5세단위)  시도코드    요양개시일자  \\\n",
       "519520  2019    999868  108936966     3     2           12    41  20190725   \n",
       "519521  2019    999868  106182011     3     2           12    41  20190916   \n",
       "519522  2019    999868  108375768     3     2           12    41  20190408   \n",
       "519523  2019    999868  100117993     3     2           12    41  20191115   \n",
       "519524  2019    999868  104284780     3     2           12    41  20190530   \n",
       "\n",
       "        약품일반성분명코드  1회 투약량  1일투약량  총투여일수     단가     금액  데이터 공개일자  \n",
       "519520  427800ACH     1.0      1     60  402.0  24120  20201222  \n",
       "519521  427800ACH     1.0      1     50  388.0  19400  20201222  \n",
       "519522  427800ACH     1.0      1     50  402.0  20100  20201222  \n",
       "519523  427800ACH     1.0      1     60  388.0  23280  20201222  \n",
       "519524  427800ACH     1.0      1     60  402.0  24120  20201222  "
      ]
     },
     "execution_count": 31,
     "metadata": {},
     "output_type": "execute_result"
    }
   ],
   "source": [
    "df.tail()"
   ]
  },
  {
   "cell_type": "code",
   "execution_count": null,
   "metadata": {},
   "outputs": [],
   "source": []
  }
 ],
 "metadata": {
  "kernelspec": {
   "display_name": "Python 3",
   "language": "python",
   "name": "python3"
  },
  "language_info": {
   "codemirror_mode": {
    "name": "ipython",
    "version": 3
   },
   "file_extension": ".py",
   "mimetype": "text/x-python",
   "name": "python",
   "nbconvert_exporter": "python",
   "pygments_lexer": "ipython3",
   "version": "3.8.3"
  },
  "toc": {
   "base_numbering": 1,
   "nav_menu": {},
   "number_sections": true,
   "sideBar": true,
   "skip_h1_title": false,
   "title_cell": "Table of Contents",
   "title_sidebar": "Contents",
   "toc_cell": false,
   "toc_position": {},
   "toc_section_display": true,
   "toc_window_display": false
  },
  "varInspector": {
   "cols": {
    "lenName": 16,
    "lenType": 16,
    "lenVar": 40
   },
   "kernels_config": {
    "python": {
     "delete_cmd_postfix": "",
     "delete_cmd_prefix": "del ",
     "library": "var_list.py",
     "varRefreshCmd": "print(var_dic_list())"
    },
    "r": {
     "delete_cmd_postfix": ") ",
     "delete_cmd_prefix": "rm(",
     "library": "var_list.r",
     "varRefreshCmd": "cat(var_dic_list()) "
    }
   },
   "types_to_exclude": [
    "module",
    "function",
    "builtin_function_or_method",
    "instance",
    "_Feature"
   ],
   "window_display": false
  }
 },
 "nbformat": 4,
 "nbformat_minor": 4
}
