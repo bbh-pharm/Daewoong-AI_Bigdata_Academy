{
 "cells": [
  {
   "cell_type": "markdown",
   "metadata": {},
   "source": [
    "* 퀴즈를 위해 아래 셀을 실행해 주세요."
   ]
  },
  {
   "cell_type": "code",
   "execution_count": 1,
   "metadata": {},
   "outputs": [],
   "source": [
    "import pandas as pd"
   ]
  },
  {
   "cell_type": "code",
   "execution_count": 2,
   "metadata": {},
   "outputs": [
    {
     "data": {
      "text/plain": [
       "(7213, 12)"
      ]
     },
     "execution_count": 2,
     "metadata": {},
     "output_type": "execute_result"
    }
   ],
   "source": [
    "df = pd.read_csv(\"data/성분코드목록표.csv\")\n",
    "df.shape"
   ]
  },
  {
   "cell_type": "markdown",
   "metadata": {},
   "source": [
    "## 1. 주성분코드의 주성분일련번호 파생변수를 만들어 주세요.\n",
    "* 다음 문서를 보면 앞에서 4자리가 `주성분일련번호` 입니다.\n",
    "* https://www.health.kr/drug_info/basedrug/main_ingredient.html\n",
    "* head() 로 다음의 결과가 나오도록 합니다.\n",
    "\n",
    "<table border=\"1\" class=\"dataframe\">\n",
    "  <thead>\n",
    "    <tr style=\"text-align: right;\">\n",
    "      <th></th>\n",
    "      <th>주성분코드</th>\n",
    "      <th>주성분일련번호</th>\n",
    "    </tr>\n",
    "  </thead>\n",
    "  <tbody>\n",
    "    <tr>\n",
    "      <th>0</th>\n",
    "      <td>100101AGN</td>\n",
    "      <td>1001</td>\n",
    "    </tr>\n",
    "    <tr>\n",
    "      <th>1</th>\n",
    "      <td>101803AGN</td>\n",
    "      <td>1018</td>\n",
    "    </tr>\n",
    "    <tr>\n",
    "      <th>2</th>\n",
    "      <td>101804AGN</td>\n",
    "      <td>1018</td>\n",
    "    </tr>\n",
    "    <tr>\n",
    "      <th>3</th>\n",
    "      <td>101806AGN</td>\n",
    "      <td>1018</td>\n",
    "    </tr>\n",
    "    <tr>\n",
    "      <th>4</th>\n",
    "      <td>125901AGN</td>\n",
    "      <td>1259</td>\n",
    "    </tr>\n",
    "  </tbody>\n",
    "</table>"
   ]
  },
  {
   "cell_type": "code",
   "execution_count": 6,
   "metadata": {},
   "outputs": [
    {
     "data": {
      "text/html": [
       "<div>\n",
       "<style scoped>\n",
       "    .dataframe tbody tr th:only-of-type {\n",
       "        vertical-align: middle;\n",
       "    }\n",
       "\n",
       "    .dataframe tbody tr th {\n",
       "        vertical-align: top;\n",
       "    }\n",
       "\n",
       "    .dataframe thead th {\n",
       "        text-align: right;\n",
       "    }\n",
       "</style>\n",
       "<table border=\"1\" class=\"dataframe\">\n",
       "  <thead>\n",
       "    <tr style=\"text-align: right;\">\n",
       "      <th></th>\n",
       "      <th>주성분코드</th>\n",
       "      <th>주성분일련번호</th>\n",
       "    </tr>\n",
       "  </thead>\n",
       "  <tbody>\n",
       "    <tr>\n",
       "      <th>0</th>\n",
       "      <td>100101AGN</td>\n",
       "      <td>1001</td>\n",
       "    </tr>\n",
       "    <tr>\n",
       "      <th>1</th>\n",
       "      <td>101803AGN</td>\n",
       "      <td>1018</td>\n",
       "    </tr>\n",
       "    <tr>\n",
       "      <th>2</th>\n",
       "      <td>101804AGN</td>\n",
       "      <td>1018</td>\n",
       "    </tr>\n",
       "    <tr>\n",
       "      <th>3</th>\n",
       "      <td>101806AGN</td>\n",
       "      <td>1018</td>\n",
       "    </tr>\n",
       "    <tr>\n",
       "      <th>4</th>\n",
       "      <td>125901AGN</td>\n",
       "      <td>1259</td>\n",
       "    </tr>\n",
       "  </tbody>\n",
       "</table>\n",
       "</div>"
      ],
      "text/plain": [
       "       주성분코드 주성분일련번호\n",
       "0  100101AGN    1001\n",
       "1  101803AGN    1018\n",
       "2  101804AGN    1018\n",
       "3  101806AGN    1018\n",
       "4  125901AGN    1259"
      ]
     },
     "execution_count": 6,
     "metadata": {},
     "output_type": "execute_result"
    }
   ],
   "source": [
    "df[\"주성분일련번호\"] = df['주성분코드'].str[:4]\n",
    "df[['주성분코드', '주성분일련번호']].head()"
   ]
  },
  {
   "cell_type": "markdown",
   "metadata": {},
   "source": [
    "## 2. 주성분코드의 함량일련번호 파생변수를 만들어 주세요.\n",
    "* 다음 문서를 보면 5,6자리가 `함량일련번호` 입니다.\n",
    "* https://www.health.kr/drug_info/basedrug/main_ingredient.html\n",
    "* head() 로 다음의 결과가 나오도록 합니다.\n",
    "\n",
    "<table border=\"1\" class=\"dataframe\">\n",
    "  <thead>\n",
    "    <tr style=\"text-align: right;\">\n",
    "      <th></th>\n",
    "      <th>주성분코드</th>\n",
    "      <th>함량일련번호</th>\n",
    "    </tr>\n",
    "  </thead>\n",
    "  <tbody>\n",
    "    <tr>\n",
    "      <th>0</th>\n",
    "      <td>100101AGN</td>\n",
    "      <td>01</td>\n",
    "    </tr>\n",
    "    <tr>\n",
    "      <th>1</th>\n",
    "      <td>101803AGN</td>\n",
    "      <td>03</td>\n",
    "    </tr>\n",
    "    <tr>\n",
    "      <th>2</th>\n",
    "      <td>101804AGN</td>\n",
    "      <td>04</td>\n",
    "    </tr>\n",
    "    <tr>\n",
    "      <th>3</th>\n",
    "      <td>101806AGN</td>\n",
    "      <td>06</td>\n",
    "    </tr>\n",
    "    <tr>\n",
    "      <th>4</th>\n",
    "      <td>125901AGN</td>\n",
    "      <td>01</td>\n",
    "    </tr>\n",
    "  </tbody>\n",
    "</table>"
   ]
  },
  {
   "cell_type": "code",
   "execution_count": 10,
   "metadata": {},
   "outputs": [
    {
     "data": {
      "text/html": [
       "<div>\n",
       "<style scoped>\n",
       "    .dataframe tbody tr th:only-of-type {\n",
       "        vertical-align: middle;\n",
       "    }\n",
       "\n",
       "    .dataframe tbody tr th {\n",
       "        vertical-align: top;\n",
       "    }\n",
       "\n",
       "    .dataframe thead th {\n",
       "        text-align: right;\n",
       "    }\n",
       "</style>\n",
       "<table border=\"1\" class=\"dataframe\">\n",
       "  <thead>\n",
       "    <tr style=\"text-align: right;\">\n",
       "      <th></th>\n",
       "      <th>주성분코드</th>\n",
       "      <th>함량일련번호</th>\n",
       "    </tr>\n",
       "  </thead>\n",
       "  <tbody>\n",
       "    <tr>\n",
       "      <th>0</th>\n",
       "      <td>100101AGN</td>\n",
       "      <td>01</td>\n",
       "    </tr>\n",
       "    <tr>\n",
       "      <th>1</th>\n",
       "      <td>101803AGN</td>\n",
       "      <td>03</td>\n",
       "    </tr>\n",
       "    <tr>\n",
       "      <th>2</th>\n",
       "      <td>101804AGN</td>\n",
       "      <td>04</td>\n",
       "    </tr>\n",
       "    <tr>\n",
       "      <th>3</th>\n",
       "      <td>101806AGN</td>\n",
       "      <td>06</td>\n",
       "    </tr>\n",
       "    <tr>\n",
       "      <th>4</th>\n",
       "      <td>125901AGN</td>\n",
       "      <td>01</td>\n",
       "    </tr>\n",
       "  </tbody>\n",
       "</table>\n",
       "</div>"
      ],
      "text/plain": [
       "       주성분코드 함량일련번호\n",
       "0  100101AGN     01\n",
       "1  101803AGN     03\n",
       "2  101804AGN     04\n",
       "3  101806AGN     06\n",
       "4  125901AGN     01"
      ]
     },
     "execution_count": 10,
     "metadata": {},
     "output_type": "execute_result"
    }
   ],
   "source": [
    "df[\"함량일련번호\"] = df['주성분코드'].str[4:6]\n",
    "df[['주성분코드', '함량일련번호']].head()"
   ]
  },
  {
   "cell_type": "markdown",
   "metadata": {},
   "source": [
    "## 3. 함량일련번호의 타입을 int로 변경해 주세요.\n",
    "\n",
    "* `df[\"함량일련번호\"].head(1)` 를 출력했을 때 다음의 결과가 나오도록 합니다.\n",
    "```\n",
    "0    1\n",
    "Name: 함량일련번호, dtype: int64\n",
    "```"
   ]
  },
  {
   "cell_type": "code",
   "execution_count": 50,
   "metadata": {
    "scrolled": true
   },
   "outputs": [
    {
     "data": {
      "text/html": [
       "<div>\n",
       "<style scoped>\n",
       "    .dataframe tbody tr th:only-of-type {\n",
       "        vertical-align: middle;\n",
       "    }\n",
       "\n",
       "    .dataframe tbody tr th {\n",
       "        vertical-align: top;\n",
       "    }\n",
       "\n",
       "    .dataframe thead th {\n",
       "        text-align: right;\n",
       "    }\n",
       "</style>\n",
       "<table border=\"1\" class=\"dataframe\">\n",
       "  <thead>\n",
       "    <tr style=\"text-align: right;\">\n",
       "      <th></th>\n",
       "      <th>성분코드</th>\n",
       "      <th>성분명</th>\n",
       "      <th>함량</th>\n",
       "      <th>단일복합</th>\n",
       "      <th>주성분코드</th>\n",
       "      <th>제형코드</th>\n",
       "      <th>투여경로</th>\n",
       "      <th>투여경로명</th>\n",
       "      <th>제형명칭</th>\n",
       "      <th>동일 제형군</th>\n",
       "      <th>함량수치</th>\n",
       "      <th>함량단위</th>\n",
       "      <th>주성분일련번호</th>\n",
       "      <th>함량일련번호</th>\n",
       "    </tr>\n",
       "  </thead>\n",
       "  <tbody>\n",
       "    <tr>\n",
       "      <th>5697</th>\n",
       "      <td>15.6</td>\n",
       "      <td>15.6</td>\n",
       "      <td>15.6</td>\n",
       "      <td>15.6</td>\n",
       "      <td>15.6</td>\n",
       "      <td>15.6</td>\n",
       "      <td>15.6</td>\n",
       "      <td>15.6</td>\n",
       "      <td>15.6</td>\n",
       "      <td>15.6</td>\n",
       "      <td>15.6</td>\n",
       "      <td>NaN</td>\n",
       "      <td>15.6</td>\n",
       "      <td>NaN</td>\n",
       "    </tr>\n",
       "  </tbody>\n",
       "</table>\n",
       "</div>"
      ],
      "text/plain": [
       "      성분코드   성분명    함량  단일복합 주성분코드  제형코드  투여경로 투여경로명  제형명칭 동일 제형군  함량수치 함량단위  \\\n",
       "5697  15.6  15.6  15.6  15.6  15.6  15.6  15.6  15.6  15.6   15.6  15.6  NaN   \n",
       "\n",
       "     주성분일련번호  함량일련번호  \n",
       "5697    15.6     NaN  "
      ]
     },
     "execution_count": 50,
     "metadata": {},
     "output_type": "execute_result"
    }
   ],
   "source": [
    "df[df['함량일련번호'].isnull()]"
   ]
  },
  {
   "cell_type": "code",
   "execution_count": 56,
   "metadata": {},
   "outputs": [
    {
     "data": {
      "text/plain": [
       "0    1\n",
       "Name: 함량일련번호, dtype: int64"
      ]
     },
     "execution_count": 56,
     "metadata": {},
     "output_type": "execute_result"
    }
   ],
   "source": [
    "df['함량일련번호'] = pd.to_numeric(df['함량일련번호'], errors='coerce')\n",
    "drop_num = df[df['함량일련번호'].isnull()].index\n",
    "df = df.drop(drop_num)\n",
    "df['함량일련번호'] = df['함량일련번호'].astype('int64')\n",
    "df['함량일련번호'].head(1)"
   ]
  },
  {
   "cell_type": "markdown",
   "metadata": {},
   "source": [
    "## 4. \"제형명칭\" 이 \"패취제\" 인 데이터만 가져와서 \"주성분일련번호\"로 그룹화 하고 \"함량일련번호\" 의 max 값을 구해주세요.\n",
    "* 다음의 값이 출력되도록 합니다.\n",
    "```\n",
    "주성분일련번호\n",
    "1546    6\n",
    "1582    2\n",
    "2025    6\n",
    "2208    1\n",
    "2361    2\n",
    "3359    0\n",
    "3360    0\n",
    "Name: 함량일련번호, dtype: int64\n",
    "```"
   ]
  },
  {
   "cell_type": "code",
   "execution_count": 57,
   "metadata": {},
   "outputs": [
    {
     "data": {
      "text/plain": [
       "주성분일련번호\n",
       "1546    6\n",
       "1582    2\n",
       "2025    6\n",
       "2208    1\n",
       "2361    2\n",
       "3359    0\n",
       "3360    0\n",
       "Name: 함량일련번호, dtype: int64"
      ]
     },
     "execution_count": 57,
     "metadata": {},
     "output_type": "execute_result"
    }
   ],
   "source": [
    "df[df['제형명칭'] == '패취제'].groupby(by='주성분일련번호')['함량일련번호'].max()"
   ]
  },
  {
   "cell_type": "markdown",
   "metadata": {},
   "source": [
    "## 5. 성분명에 \"균사체\"가 들어가는 데이터에서 \"주성분코드\" 컬럼만 찾아주세요.\n",
    "* 다음의 결과가 출력되도록 작성해 주세요.\n",
    "```\n",
    "0      100101AGN\n",
    "212    100102ACH\n",
    "Name: 주성분코드, dtype: object\n",
    "```"
   ]
  },
  {
   "cell_type": "code",
   "execution_count": 22,
   "metadata": {},
   "outputs": [
    {
     "data": {
      "text/plain": [
       "0      100101AGN\n",
       "212    100102ACH\n",
       "Name: 주성분코드, dtype: object"
      ]
     },
     "execution_count": 22,
     "metadata": {},
     "output_type": "execute_result"
    }
   ],
   "source": [
    "df.loc[df['성분명'].str.contains('균사체'), '주성분코드']"
   ]
  },
  {
   "cell_type": "markdown",
   "metadata": {},
   "source": [
    "## 6. \"함량단위\"가 \"mg\" 이고 \"투여경로명\"이 \"내복제\", \"외용제\" 인 데이터프레임의 행과 열의 수를 출력해 주세요.\n",
    "* 아래의 결과가 출력되도록 작성합니다.\n",
    "`(4726, 11)`"
   ]
  },
  {
   "cell_type": "code",
   "execution_count": 25,
   "metadata": {},
   "outputs": [
    {
     "data": {
      "text/plain": [
       "(4726, 14)"
      ]
     },
     "execution_count": 25,
     "metadata": {},
     "output_type": "execute_result"
    }
   ],
   "source": [
    "df[(df['함량단위'] == 'mg') & (df['투여경로명'].isin(['내복제', '외용제']))].shape"
   ]
  },
  {
   "cell_type": "markdown",
   "metadata": {},
   "source": [
    "## 7. \"성분명\"에 \"sodium\"이나 \"calcium\"이 들어가는 데이터에서 \"투여경로명\" 의 빈도수를 구해주세요.\n",
    "* 아래의 결과가 출력되도록 합니다.\n",
    "* **loc를 사용해서 작성해 주세요.**\n",
    "```\n",
    "주사제    397\n",
    "내복제    294\n",
    "외용제     61\n",
    "Name: 투여경로명, dtype: int64\n",
    "```"
   ]
  },
  {
   "cell_type": "code",
   "execution_count": 28,
   "metadata": {},
   "outputs": [
    {
     "data": {
      "text/plain": [
       "주사제    397\n",
       "내복제    294\n",
       "외용제     60\n",
       "Name: 투여경로명, dtype: int64"
      ]
     },
     "execution_count": 28,
     "metadata": {},
     "output_type": "execute_result"
    }
   ],
   "source": [
    "df.loc[df['성분명'].str.contains('sodium|calcium'), '투여경로명'].value_counts()"
   ]
  },
  {
   "cell_type": "markdown",
   "metadata": {},
   "source": [
    "## 8. \"함량단위\" 가 \"mcg\"인 데이터에서 \"함량수치\"만 가져와서 기술통계값을 구합니다.\n",
    "* 다음의 값이 출력되도록 합니다.\n",
    "```\n",
    "count     466.000000\n",
    "mean      255.749966\n",
    "std       241.231415\n",
    "min         0.005000\n",
    "25%        26.000000\n",
    "50%       200.000000\n",
    "75%       500.000000\n",
    "max      1000.000000\n",
    "Name: 함량수치, dtype: float64\n",
    "```"
   ]
  },
  {
   "cell_type": "code",
   "execution_count": 29,
   "metadata": {},
   "outputs": [
    {
     "data": {
      "text/plain": [
       "count     466.000000\n",
       "mean      255.749966\n",
       "std       241.231415\n",
       "min         0.005000\n",
       "25%        26.000000\n",
       "50%       200.000000\n",
       "75%       500.000000\n",
       "max      1000.000000\n",
       "Name: 함량수치, dtype: float64"
      ]
     },
     "execution_count": 29,
     "metadata": {},
     "output_type": "execute_result"
    }
   ],
   "source": [
    "df.loc[df['함량단위'] == 'mcg', '함량수치'].describe()"
   ]
  },
  {
   "cell_type": "markdown",
   "metadata": {},
   "source": [
    "## 9. 함량단위가 \"천만마리\" 인 데이터의 주성분코드를 찾아주세요.\n",
    "* 다음의 결과가 출력되도록 합니다.\n",
    "```\n",
    "636     290600ACH\n",
    "6431    290800APD\n",
    "Name: 주성분코드, dtype: object\n",
    "```"
   ]
  },
  {
   "cell_type": "code",
   "execution_count": 31,
   "metadata": {},
   "outputs": [
    {
     "data": {
      "text/plain": [
       "636     290600ACH\n",
       "6431    290800APD\n",
       "Name: 주성분코드, dtype: object"
      ]
     },
     "execution_count": 31,
     "metadata": {},
     "output_type": "execute_result"
    }
   ],
   "source": [
    "df.loc[df['함량단위'] == '천만마리', '주성분코드']"
   ]
  },
  {
   "cell_type": "markdown",
   "metadata": {},
   "source": [
    "## 10. 성분코드는 \"주성분코드\" 변수를 새로 생성해 주었기 때문에 사용하지 않습니다. drop을 통해 제거하고 df 변수의 columns 값을 출력해 줍니다.\n",
    "* 제거시 del이 아닌 drop을 사용해 주세요.\n",
    "* 이미 삭제했는데 다시 삭제하면 KeyError 가 발생하니 이 때는 drop으로 작성한 줄을 주석처리 해주셔도 됩니다.\n",
    "* 아래의 결과가 나오도록 합니다.\n",
    "```\n",
    "Index(['성분명', '함량', '단일복합', '주성분코드', '제형코드', '투여경로', '투여경로명', '함량수치', '함량단위',\n",
    "       '제형명칭', '동일 제형군', '주성분일련번호', '함량일련번호'],\n",
    "      dtype='object')\n",
    "```"
   ]
  },
  {
   "cell_type": "code",
   "execution_count": 33,
   "metadata": {},
   "outputs": [],
   "source": [
    "# drop을 사용해 \"성분코드\"를 제거해 주세요.\n",
    "df_new = df.drop('성분코드', axis=1)"
   ]
  },
  {
   "cell_type": "code",
   "execution_count": 35,
   "metadata": {},
   "outputs": [
    {
     "data": {
      "text/plain": [
       "Index(['성분명', '함량', '단일복합', '주성분코드', '제형코드', '투여경로', '투여경로명', '제형명칭', '동일 제형군',\n",
       "       '함량수치', '함량단위', '주성분일련번호', '함량일련번호'],\n",
       "      dtype='object')"
      ]
     },
     "execution_count": 35,
     "metadata": {},
     "output_type": "execute_result"
    }
   ],
   "source": [
    "# 데이터프레임의 컬럼만 출력되도록 합니다.\n",
    "df_new.columns"
   ]
  }
 ],
 "metadata": {
  "kernelspec": {
   "display_name": "Python 3",
   "language": "python",
   "name": "python3"
  },
  "language_info": {
   "codemirror_mode": {
    "name": "ipython",
    "version": 3
   },
   "file_extension": ".py",
   "mimetype": "text/x-python",
   "name": "python",
   "nbconvert_exporter": "python",
   "pygments_lexer": "ipython3",
   "version": "3.8.3"
  },
  "toc": {
   "base_numbering": 1,
   "nav_menu": {},
   "number_sections": true,
   "sideBar": true,
   "skip_h1_title": false,
   "title_cell": "Table of Contents",
   "title_sidebar": "Contents",
   "toc_cell": false,
   "toc_position": {},
   "toc_section_display": true,
   "toc_window_display": true
  },
  "varInspector": {
   "cols": {
    "lenName": 16,
    "lenType": 16,
    "lenVar": 40
   },
   "kernels_config": {
    "python": {
     "delete_cmd_postfix": "",
     "delete_cmd_prefix": "del ",
     "library": "var_list.py",
     "varRefreshCmd": "print(var_dic_list())"
    },
    "r": {
     "delete_cmd_postfix": ") ",
     "delete_cmd_prefix": "rm(",
     "library": "var_list.r",
     "varRefreshCmd": "cat(var_dic_list()) "
    }
   },
   "types_to_exclude": [
    "module",
    "function",
    "builtin_function_or_method",
    "instance",
    "_Feature"
   ],
   "window_display": false
  }
 },
 "nbformat": 4,
 "nbformat_minor": 4
}
