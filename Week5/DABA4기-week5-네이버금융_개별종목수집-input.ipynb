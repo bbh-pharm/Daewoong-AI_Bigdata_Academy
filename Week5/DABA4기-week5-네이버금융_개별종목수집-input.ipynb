{
 "cells": [
  {
   "cell_type": "markdown",
   "metadata": {
    "id": "pOdYzjmEAGhg"
   },
   "source": [
    "## 네이버 금융 개별종목 수집\n",
    "* FinanceDataReader를 통해 수집했던 데이터를 네이버 증권 웹 페이지를 통해 직접 수집합니다.\n",
    "\n",
    "\n",
    "### Keyword\n",
    "\n",
    "* html 파일 읽어오기\n",
    "    * pd.read_html(url, encoding=\"cp949\")\n",
    "\n",
    "* 결측 데이터 제거하기(axis 0:행, 1:열)\n",
    "    * table[0].dropna()\n",
    "\n",
    "* 데이터 프레임 합치기\n",
    "    * pd.concat([df1, df2, df3])\n",
    "\n",
    "* 중복데이터 제거\n",
    "    * df.drop_duplicates()\n",
    "\n",
    "* 과학적 기수법\n",
    "    * 1.210000e+02 => 121\n",
    "\n",
    "* 날짜 column의 첫 row값 확인\n",
    "    * date = df.iloc[0][\"날짜\"]\n",
    "\n",
    "* 파일로 저장하기 \n",
    "    * df.to_csv(file_name, index=False)\n",
    "\n",
    "* 파일 읽어오기\n",
    "    * pd.read_csv(file_name)"
   ]
  },
  {
   "cell_type": "markdown",
   "metadata": {
    "id": "-lIn4AdJTMkA"
   },
   "source": [
    "## 수집할 페이지 보기\n",
    "\n",
    "* 네이버 금융 국내증시 : https://finance.naver.com/sise/"
   ]
  },
  {
   "cell_type": "markdown",
   "metadata": {},
   "source": [
    "## 라이브러리 로드"
   ]
  },
  {
   "cell_type": "code",
   "execution_count": 1,
   "metadata": {
    "id": "6Mm8vuymTMkA"
   },
   "outputs": [],
   "source": [
    "# 라이브러리 로드\n",
    "import pandas as pd"
   ]
  },
  {
   "cell_type": "markdown",
   "metadata": {},
   "source": [
    "## 수집할 URL 정하기"
   ]
  },
  {
   "cell_type": "code",
   "execution_count": 11,
   "metadata": {
    "id": "QzZJoAvoTMkA"
   },
   "outputs": [
    {
     "data": {
      "text/plain": [
       "'https://finance.naver.com/item/sise_day.nhn?code=069620&page=3'"
      ]
     },
     "execution_count": 11,
     "metadata": {},
     "output_type": "execute_result"
    }
   ],
   "source": [
    "# 종목번호와 상장사 이름을 item_code와 item_name으로 설정\n",
    "item_code = \"069620\"\n",
    "item_name = \"대웅제약\"\n",
    "page_no = 3\n",
    "\n",
    "# 종목 URL 만들기\n",
    "url = f\"https://finance.naver.com/item/sise_day.nhn?code={item_code}&page={page_no}\"\n",
    "url "
   ]
  },
  {
   "cell_type": "markdown",
   "metadata": {},
   "source": [
    "## requests를 통한 HTTP 요청\n",
    "* [Requests: HTTP for Humans™ — Requests documentation](https://requests.readthedocs.io/en/master/)\n",
    "* [Quickstart — Requests documentation # custom-headers](https://requests.readthedocs.io/en/latest/user/quickstart/#custom-headers)"
   ]
  },
  {
   "cell_type": "code",
   "execution_count": 13,
   "metadata": {},
   "outputs": [
    {
     "data": {
      "text/plain": [
       "'\\n<html lang=\"ko\">\\n<head>\\n<meta http-equiv=\"Content-Type\" content=\"text/html; charset=euc-kr\">\\n<title>네이버 금융</title>\\n\\n<link rel=\"stylesheet\" type=\"text/css\" href=\"https://ssl.pstatic.net/imgstock/static.pc/20210526011704/css/newstock.css\">\\n<link rel=\"stylesheet\" type=\"text/css\" href=\"https://ssl.pstatic.net/imgstock/static.pc/20210526011704/css/common.css\">\\n<link rel=\"stylesheet\" type=\"text/css\" href=\"https://ssl.pstatic.net/imgstock/static.pc/20210526011704/css/layout.css\">\\n<link rel=\"stylesheet\" type=\"text/css\" href=\"https://ssl.pstatic.net/imgstock/static.pc/20210526011704/css/main.css\">\\n<link rel=\"stylesheet\" type=\"text/css\" href=\"https://ssl.pstatic.net/imgstock/static.pc/20210526011704/css/newstock2.css\">\\n<link rel=\"stylesheet\" type=\"text/css\" href=\"https://ssl.pstatic.net/imgstock/static.pc/20210526011704/css/newstock3.css\">\\n<link rel=\"stylesheet\" type=\"text/css\" href=\"https://ssl.pstatic.net/imgstock/static.pc/20210526011704/css/world.css\">\\n</head>\\n<body>\\n<script language=\"JavaScript\">\\nfunction mouseOver(obj){\\n  obj.style.backgroundColor=\"#f6f4e5\";\\n}\\nfunction mouseOut(obj){\\n  obj.style.backgroundColor=\"#ffffff\";\\n}\\n</script>\\n\\t\\t\\t\\t<h4 class=\"tlline2\"><strong><span class=\"red03\">일별</span>시세</strong></h4>\\t\\t\\t\\n\\t\\t\\t\\t<table cellspacing=\"0\" class=\"type2\">\\n\\t\\t\\t\\t<tr>\\n\\t\\t\\t\\t<th>날짜</th>\\n\\t\\t\\t\\t<th>종가</th>\\n\\t\\t\\t\\t<th>전일비</th>\\n\\t\\t\\t\\t<th>시가</th>\\n\\t\\t\\t\\t<th>고가</th>\\n\\t\\t\\t\\t<th>저가</th>\\n\\t\\t\\t\\t<th>거래량</th>\\n\\t\\t\\t\\t</tr>\\n\\t\\t\\t\\t<tr>\\n\\t\\t\\t\\t<td colspan=\"7\" height=\"8\"></td>\\n\\t\\t\\t\\t</tr>\\n\\n\\n\\t\\n\\t\\n\\t\\n\\t\\t\\n\\t\\t\\t\\n\\t\\t\\t\\t\\n\\t\\t\\t\\t\\t<tr onMouseOver=\"mouseOver(this)\" onMouseOut=\"mouseOut(this)\">\\n\\t\\t\\t\\t\\t<td align=\"center\"><span class=\"tah p10 gray03\">2021.05.06</span></td>\\n\\t\\t\\t\\t\\t<td class=\"num\"><span class=\"tah p11\">136,000</span></td>\\n\\t\\t\\t\\t\\t<td class=\"num\">\\n\\t\\t\\t\\t<img src=\"https://ssl.pstatic.net/imgstock/images/images4/ico_up.gif\" width=\"7\" height=\"6\" style=\"margin-right:4px;\" alt=\"상승\"><span class=\"tah p11 red02\">\\n\\t\\t\\t\\t2,000\\n\\t\\t\\t\\t</span>\\n\\t\\t\\t</td>\\n\\t\\t\\t\\t\\t<td class=\"num\"><span class=\"tah p11\">132,000</span></td>\\n\\t\\t\\t\\t\\t<td class=\"num\"><span class=\"tah p11\">137,000</span></td>\\n\\t\\t\\t\\t\\t<td class=\"num\"><span class=\"tah p11\">131,000</span></td>\\n\\t\\t\\t\\t\\t<td class=\"num\"><span class=\"tah p11\">60,566</span></td>\\n\\t\\t\\t\\t\\t</tr>\\n\\t\\t\\t\\t\\n\\t\\t\\t\\t\\n\\t\\t\\t\\n\\t\\t\\t\\n\\t\\t\\t\\n\\t\\t\\t\\n\\t\\t\\t\\n\\t\\n\\t\\t\\n\\t\\t\\t\\n\\t\\t\\t\\t\\n\\t\\t\\t\\t\\t<tr onMouseOver=\"mouseOver(this)\" onMouseOut=\"mouseOut(this)\">\\n\\t\\t\\t\\t\\t<td align=\"center\"><span class=\"tah p10 gray03\">2021.05.04</span></td>\\n\\t\\t\\t\\t\\t<td class=\"num\"><span class=\"tah p11\">134,000</span></td>\\n\\t\\t\\t\\t\\t<td class=\"num\">\\n\\t\\t\\t\\t<img src=\"https://ssl.pstatic.net/imgstock/images/images4/ico_up.gif\" width=\"7\" height=\"6\" style=\"margin-right:4px;\" alt=\"상승\"><span class=\"tah p11 red02\">\\n\\t\\t\\t\\t7,500\\n\\t\\t\\t\\t</span>\\n\\t\\t\\t</td>\\n\\t\\t\\t\\t\\t<td class=\"num\"><span class=\"tah p11\">125,500</span></td>\\n\\t\\t\\t\\t\\t<td class=\"num\"><span class=\"tah p11\">135,000</span></td>\\n\\t\\t\\t\\t\\t<td class=\"num\"><span class=\"tah p11\">123,500</span></td>\\n\\t\\t\\t\\t\\t<td class=\"num\"><span class=\"tah p11\">102,813</span></td>\\n\\t\\t\\t\\t\\t</tr>\\n\\t\\t\\t\\t\\n\\t\\t\\t\\t\\n\\t\\t\\t\\n\\t\\t\\t\\n\\t\\t\\t\\n\\t\\t\\t\\n\\t\\t\\t\\n\\t\\n\\t\\t\\n\\t\\t\\t\\n\\t\\t\\t\\t\\n\\t\\t\\t\\t\\t<tr onMouseOver=\"mouseOver(this)\" onMouseOut=\"mouseOut(this)\">\\n\\t\\t\\t\\t\\t<td align=\"center\"><span class=\"tah p10 gray03\">2021.05.03</span></td>\\n\\t\\t\\t\\t\\t<td class=\"num\"><span class=\"tah p11\">126,500</span></td>\\n\\t\\t\\t\\t\\t<td class=\"num\">\\n\\t\\t\\t\\t<img src=\"https://ssl.pstatic.net/imgstock/images/images4/ico_down.gif\" width=\"7\" height=\"6\" style=\"margin-right:4px;\" alt=\"하락\"><span class=\"tah p11 nv01\">\\n\\t\\t\\t\\t7,000\\n\\t\\t\\t\\t</span>\\n\\t\\t\\t</td>\\n\\t\\t\\t\\t\\t<td class=\"num\"><span class=\"tah p11\">133,500</span></td>\\n\\t\\t\\t\\t\\t<td class=\"num\"><span class=\"tah p11\">133,500</span></td>\\n\\t\\t\\t\\t\\t<td class=\"num\"><span class=\"tah p11\">126,500</span></td>\\n\\t\\t\\t\\t\\t<td class=\"num\"><span class=\"tah p11\">62,429</span></td>\\n\\t\\t\\t\\t\\t</tr>\\n\\t\\t\\t\\t\\n\\t\\t\\t\\t\\n\\t\\t\\t\\n\\t\\t\\t\\n\\t\\t\\t\\n\\t\\t\\t\\n\\t\\t\\t\\n\\t\\n\\t\\t\\n\\t\\t\\t\\n\\t\\t\\t\\t\\n\\t\\t\\t\\t\\t<tr onMouseOver=\"mouseOver(this)\" onMouseOut=\"mouseOut(this)\">\\n\\t\\t\\t\\t\\t<td align=\"center\"><span class=\"tah p10 gray03\">2021.04.30</span></td>\\n\\t\\t\\t\\t\\t<td class=\"num\"><span class=\"tah p11\">133,500</span></td>\\n\\t\\t\\t\\t\\t<td class=\"num\">\\n\\t\\t\\t\\t<img src=\"https://ssl.pstatic.net/imgstock/images/images4/ico_down.gif\" width=\"7\" height=\"6\" style=\"margin-right:4px;\" alt=\"하락\"><span class=\"tah p11 nv01\">\\n\\t\\t\\t\\t7,000\\n\\t\\t\\t\\t</span>\\n\\t\\t\\t</td>\\n\\t\\t\\t\\t\\t<td class=\"num\"><span class=\"tah p11\">138,000</span></td>\\n\\t\\t\\t\\t\\t<td class=\"num\"><span class=\"tah p11\">139,000</span></td>\\n\\t\\t\\t\\t\\t<td class=\"num\"><span class=\"tah p11\">131,500</span></td>\\n\\t\\t\\t\\t\\t<td class=\"num\"><span class=\"tah p11\">125,749</span></td>\\n\\t\\t\\t\\t\\t</tr>\\n\\t\\t\\t\\t\\n\\t\\t\\t\\t\\n\\t\\t\\t\\n\\t\\t\\t\\n\\t\\t\\t\\n\\t\\t\\t\\n\\t\\t\\t\\n\\t\\n\\t\\t\\n\\t\\t\\t\\n\\t\\t\\t\\t\\n\\t\\t\\t\\t\\t<tr onMouseOver=\"mouseOver(this)\" onMouseOut=\"mouseOut(this)\">\\n\\t\\t\\t\\t\\t<td align=\"center\"><span class=\"tah p10 gray03\">2021.04.29</span></td>\\n\\t\\t\\t\\t\\t<td class=\"num\"><span class=\"tah p11\">140,500</span></td>\\n\\t\\t\\t\\t\\t<td class=\"num\">\\n\\t\\t\\t\\t<img src=\"https://ssl.pstatic.net/imgstock/images/images4/ico_down.gif\" width=\"7\" height=\"6\" style=\"margin-right:4px;\" alt=\"하락\"><span class=\"tah p11 nv01\">\\n\\t\\t\\t\\t2,500\\n\\t\\t\\t\\t</span>\\n\\t\\t\\t</td>\\n\\t\\t\\t\\t\\t<td class=\"num\"><span class=\"tah p11\">143,000</span></td>\\n\\t\\t\\t\\t\\t<td class=\"num\"><span class=\"tah p11\">145,000</span></td>\\n\\t\\t\\t\\t\\t<td class=\"num\"><span class=\"tah p11\">140,500</span></td>\\n\\t\\t\\t\\t\\t<td class=\"num\"><span class=\"tah p11\">82,845</span></td>\\n\\t\\t\\t\\t\\t</tr>\\n\\t\\t\\t\\t\\n\\t\\t\\t\\t\\n\\t\\t\\t\\n\\t\\t\\t\\n\\t\\t\\t\\n\\t\\t\\t\\n\\t\\t\\t\\t<tr>\\n\\t\\t\\t\\t<td colspan=\"7\" height=\"8\"></td>\\n\\t\\t\\t\\t</tr>\\n\\t\\t\\t\\t<tr>\\n\\t\\t\\t\\t<td colspan=\"7\" height=\"1\" bgcolor=\"#e1e1e1\"></td>\\n\\t\\t\\t\\t</tr>\\n\\t\\t\\t\\t<tr>\\n\\t\\t\\t\\t<td colspan=\"7\" height=\"8\"></td>\\n\\t\\t\\t\\t</tr>\\n\\t\\t\\t\\n\\t\\t\\t\\n\\t\\n\\t\\t\\n\\t\\t\\t\\n\\t\\t\\t\\t\\n\\t\\t\\t\\t\\t<tr onMouseOver=\"mouseOver(this)\" onMouseOut=\"mouseOut(this)\">\\n\\t\\t\\t\\t\\t<td align=\"center\"><span class=\"tah p10 gray03\">2021.04.28</span></td>\\n\\t\\t\\t\\t\\t<td class=\"num\"><span class=\"tah p11\">143,000</span></td>\\n\\t\\t\\t\\t\\t<td class=\"num\">\\n\\t\\t\\t\\t<img src=\"https://ssl.pstatic.net/imgstock/images/images4/ico_up.gif\" width=\"7\" height=\"6\" style=\"margin-right:4px;\" alt=\"상승\"><span class=\"tah p11 red02\">\\n\\t\\t\\t\\t3,000\\n\\t\\t\\t\\t</span>\\n\\t\\t\\t</td>\\n\\t\\t\\t\\t\\t<td class=\"num\"><span class=\"tah p11\">140,000</span></td>\\n\\t\\t\\t\\t\\t<td class=\"num\"><span class=\"tah p11\">146,500</span></td>\\n\\t\\t\\t\\t\\t<td class=\"num\"><span class=\"tah p11\">137,500</span></td>\\n\\t\\t\\t\\t\\t<td class=\"num\"><span class=\"tah p11\">129,818</span></td>\\n\\t\\t\\t\\t\\t</tr>\\n\\t\\t\\t\\t\\n\\t\\t\\t\\t\\n\\t\\t\\t\\n\\t\\t\\t\\n\\t\\t\\t\\n\\t\\t\\t\\n\\t\\t\\t\\n\\t\\n\\t\\t\\n\\t\\t\\t\\n\\t\\t\\t\\t\\n\\t\\t\\t\\t\\t<tr onMouseOver=\"mouseOver(this)\" onMouseOut=\"mouseOut(this)\">\\n\\t\\t\\t\\t\\t<td align=\"center\"><span class=\"tah p10 gray03\">2021.04.27</span></td>\\n\\t\\t\\t\\t\\t<td class=\"num\"><span class=\"tah p11\">140,000</span></td>\\n\\t\\t\\t\\t\\t<td class=\"num\">\\n\\t\\t\\t\\t<img src=\"https://ssl.pstatic.net/imgstock/images/images4/ico_down.gif\" width=\"7\" height=\"6\" style=\"margin-right:4px;\" alt=\"하락\"><span class=\"tah p11 nv01\">\\n\\t\\t\\t\\t2,500\\n\\t\\t\\t\\t</span>\\n\\t\\t\\t</td>\\n\\t\\t\\t\\t\\t<td class=\"num\"><span class=\"tah p11\">143,000</span></td>\\n\\t\\t\\t\\t\\t<td class=\"num\"><span class=\"tah p11\">143,500</span></td>\\n\\t\\t\\t\\t\\t<td class=\"num\"><span class=\"tah p11\">140,000</span></td>\\n\\t\\t\\t\\t\\t<td class=\"num\"><span class=\"tah p11\">42,975</span></td>\\n\\t\\t\\t\\t\\t</tr>\\n\\t\\t\\t\\t\\n\\t\\t\\t\\t\\n\\t\\t\\t\\n\\t\\t\\t\\n\\t\\t\\t\\n\\t\\t\\t\\n\\t\\t\\t\\n\\t\\n\\t\\t\\n\\t\\t\\t\\n\\t\\t\\t\\t\\n\\t\\t\\t\\t\\t<tr onMouseOver=\"mouseOver(this)\" onMouseOut=\"mouseOut(this)\">\\n\\t\\t\\t\\t\\t<td align=\"center\"><span class=\"tah p10 gray03\">2021.04.26</span></td>\\n\\t\\t\\t\\t\\t<td class=\"num\"><span class=\"tah p11\">142,500</span></td>\\n\\t\\t\\t\\t\\t<td class=\"num\">\\n\\t\\t\\t\\t<img src=\"https://ssl.pstatic.net/imgstock/images/images4/ico_up.gif\" width=\"7\" height=\"6\" style=\"margin-right:4px;\" alt=\"상승\"><span class=\"tah p11 red02\">\\n\\t\\t\\t\\t500\\n\\t\\t\\t\\t</span>\\n\\t\\t\\t</td>\\n\\t\\t\\t\\t\\t<td class=\"num\"><span class=\"tah p11\">142,500</span></td>\\n\\t\\t\\t\\t\\t<td class=\"num\"><span class=\"tah p11\">144,500</span></td>\\n\\t\\t\\t\\t\\t<td class=\"num\"><span class=\"tah p11\">141,500</span></td>\\n\\t\\t\\t\\t\\t<td class=\"num\"><span class=\"tah p11\">44,820</span></td>\\n\\t\\t\\t\\t\\t</tr>\\n\\t\\t\\t\\t\\n\\t\\t\\t\\t\\n\\t\\t\\t\\n\\t\\t\\t\\n\\t\\t\\t\\n\\t\\t\\t\\n\\t\\t\\t\\n\\t\\n\\t\\t\\n\\t\\t\\t\\n\\t\\t\\t\\t\\n\\t\\t\\t\\t\\t<tr onMouseOver=\"mouseOver(this)\" onMouseOut=\"mouseOut(this)\">\\n\\t\\t\\t\\t\\t<td align=\"center\"><span class=\"tah p10 gray03\">2021.04.23</span></td>\\n\\t\\t\\t\\t\\t<td class=\"num\"><span class=\"tah p11\">142,000</span></td>\\n\\t\\t\\t\\t\\t<td class=\"num\">\\n\\t\\t\\t\\t<img src=\"https://ssl.pstatic.net/imgstock/images/images4/ico_down.gif\" width=\"7\" height=\"6\" style=\"margin-right:4px;\" alt=\"하락\"><span class=\"tah p11 nv01\">\\n\\t\\t\\t\\t3,500\\n\\t\\t\\t\\t</span>\\n\\t\\t\\t</td>\\n\\t\\t\\t\\t\\t<td class=\"num\"><span class=\"tah p11\">145,000</span></td>\\n\\t\\t\\t\\t\\t<td class=\"num\"><span class=\"tah p11\">146,000</span></td>\\n\\t\\t\\t\\t\\t<td class=\"num\"><span class=\"tah p11\">142,000</span></td>\\n\\t\\t\\t\\t\\t<td class=\"num\"><span class=\"tah p11\">56,834</span></td>\\n\\t\\t\\t\\t\\t</tr>\\n\\t\\t\\t\\t\\n\\t\\t\\t\\t\\n\\t\\t\\t\\n\\t\\t\\t\\n\\t\\t\\t\\n\\t\\t\\t\\n\\t\\t\\t\\n\\t\\n\\t\\t\\n\\t\\t\\t\\n\\t\\t\\t\\t\\n\\t\\t\\t\\t\\t<tr onMouseOver=\"mouseOver(this)\" onMouseOut=\"mouseOut(this)\">\\n\\t\\t\\t\\t\\t<td align=\"center\"><span class=\"tah p10 gray03\">2021.04.22</span></td>\\n\\t\\t\\t\\t\\t<td class=\"num\"><span class=\"tah p11\">145,500</span></td>\\n\\t\\t\\t\\t\\t<td class=\"num\">\\n\\t\\t\\t\\t<img src=\"https://ssl.pstatic.net/imgstock/images/images4/ico_up.gif\" width=\"7\" height=\"6\" style=\"margin-right:4px;\" alt=\"상승\"><span class=\"tah p11 red02\">\\n\\t\\t\\t\\t2,500\\n\\t\\t\\t\\t</span>\\n\\t\\t\\t</td>\\n\\t\\t\\t\\t\\t<td class=\"num\"><span class=\"tah p11\">145,000</span></td>\\n\\t\\t\\t\\t\\t<td class=\"num\"><span class=\"tah p11\">146,000</span></td>\\n\\t\\t\\t\\t\\t<td class=\"num\"><span class=\"tah p11\">142,000</span></td>\\n\\t\\t\\t\\t\\t<td class=\"num\"><span class=\"tah p11\">86,037</span></td>\\n\\t\\t\\t\\t\\t</tr>\\n\\t\\t\\t\\t\\n\\t\\t\\t\\t\\n\\t\\t\\t\\n\\t\\t\\t\\n\\t\\t\\t\\n\\t\\t\\t\\n\\t\\t\\t\\n\\t\\n\\t\\t\\n\\t\\n\\n\\t\\t\\t\\t<tr>\\n\\t\\t\\t\\t<td colspan=\"7\" height=\"8\"></td>\\n\\t\\t\\t\\t</tr>\\n\\t\\t\\t\\t</table>\\n\\t\\t\\t\\t<!--- 페이지 네비게이션 시작--->\\n\\t\\t\\t\\t<table summary=\"페이지 네비게이션 리스트\" class=\"Nnavi\" align=\"center\">\\n\\t\\t\\t\\t<caption>페이지 네비게이션</caption>\\n\\t\\t\\t\\t<tr>\\t\\t\\n\\t\\t\\t\\n\\t\\t\\t\\t<td class=\"pgLL\">\\n\\t\\t\\t\\t<a href=\"/item/sise_day.nhn?code=069620&amp;page=1\"  >\\n\\t\\t\\t\\t<img src=\"https://ssl.pstatic.net/static/n/cmn/bu_pgarLL.gif\" width=\"7\" height=\"5\" alt=\"\">맨앞\\n\\t\\t\\t\\t</a>\\n\\t\\t\\t\\t</td>\\n\\n                \\n                <td>\\n\\t\\t\\t\\t<a href=\"/item/sise_day.nhn?code=069620&amp;page=1\"  >1</a>\\n\\t\\t\\t\\t</td>\\n<td>\\n\\t\\t\\t\\t<a href=\"/item/sise_day.nhn?code=069620&amp;page=2\"  >2</a>\\n\\t\\t\\t\\t</td>\\n<td class=\"on\">\\n\\t\\t\\t\\t<a href=\"/item/sise_day.nhn?code=069620&amp;page=3\"  >3</a>\\n\\t\\t\\t\\t</td>\\n<td>\\n\\t\\t\\t\\t<a href=\"/item/sise_day.nhn?code=069620&amp;page=4\"  >4</a>\\n\\t\\t\\t\\t</td>\\n<td>\\n\\t\\t\\t\\t<a href=\"/item/sise_day.nhn?code=069620&amp;page=5\"  >5</a>\\n\\t\\t\\t\\t</td>\\n<td>\\n\\t\\t\\t\\t<a href=\"/item/sise_day.nhn?code=069620&amp;page=6\"  >6</a>\\n\\t\\t\\t\\t</td>\\n<td>\\n\\t\\t\\t\\t<a href=\"/item/sise_day.nhn?code=069620&amp;page=7\"  >7</a>\\n\\t\\t\\t\\t</td>\\n<td>\\n\\t\\t\\t\\t<a href=\"/item/sise_day.nhn?code=069620&amp;page=8\"  >8</a>\\n\\t\\t\\t\\t</td>\\n<td>\\n\\t\\t\\t\\t<a href=\"/item/sise_day.nhn?code=069620&amp;page=9\"  >9</a>\\n\\t\\t\\t\\t</td>\\n<td>\\n\\t\\t\\t\\t<a href=\"/item/sise_day.nhn?code=069620&amp;page=10\"  >10</a>\\n\\t\\t\\t\\t</td>\\n\\n                <td class=\"pgR\">\\n\\t\\t\\t\\t<a href=\"/item/sise_day.nhn?code=069620&amp;page=11\"  >\\n\\t\\t\\t\\t다음<img src=\"https://ssl.pstatic.net/static/n/cmn/bu_pgarR.gif\" width=\"3\" height=\"5\" alt=\"\" border=\"0\">\\n\\t\\t\\t\\t</a>\\n\\t\\t\\t\\t</td>\\n\\n                <td class=\"pgRR\">\\n\\t\\t\\t\\t<a href=\"/item/sise_day.nhn?code=069620&amp;page=460\"  >맨뒤\\n\\t\\t\\t\\t<img src=\"https://ssl.pstatic.net/static/n/cmn/bu_pgarRR.gif\" width=\"8\" height=\"5\" alt=\"\" border=\"0\">\\n\\t\\t\\t\\t</a>\\n\\t\\t\\t\\t</td>\\n\\n            \\n\\t\\t\\t\\t</tr>\\n\\t\\t\\t\\t</table>\\n\\t\\t\\t\\t<!--- 페이지 네비게이션 끝--->\\n\\n\\n\\t<script type=\"text/javascript\" src=\"https://ssl.pstatic.net/imgstock/static.pc/20210526011704/js/jindo.min.ns.1.5.3.euckr.js\"></script>\\n\\t<script type=\"text/javascript\" src=\"https://ssl.pstatic.net/imgstock/static.pc/20210526011704/js/lcslog.js\"></script>\\n\\t<script type=\"text/javascript\">\\n        ;(function(){\\n            var eventType = \"onpageshow\" in window ? \"pageshow\" : \"load\";\\n            jindo.$Fn(function(){\\n                lcs_do();\\n            }).attach(window, eventType);\\n        })();\\n\\t</script>\\n\\n</body>'"
      ]
     },
     "execution_count": 13,
     "metadata": {},
     "output_type": "execute_result"
    }
   ],
   "source": [
    "import requests\n",
    "\n",
    "headers = {'user-agent': 'Mozilla/5.0 (Windows NT 10.0; Win64; x64) AppleWebKit/537.36 (KHTML, like Gecko) Chrome/90.0.4430.212 Safari/537.36'}\n",
    "# response\n",
    "response = requests.get(url, headers=headers)\n",
    "response.text"
   ]
  },
  {
   "cell_type": "code",
   "execution_count": 12,
   "metadata": {},
   "outputs": [
    {
     "name": "stdout",
     "output_type": "stream",
     "text": [
      "https://finance.naver.com/item/sise_day.nhn?code=069620&page=3\n"
     ]
    }
   ],
   "source": [
    "print(url)"
   ]
  },
  {
   "cell_type": "markdown",
   "metadata": {},
   "source": [
    "## BeautifulSoup 을 통한 table 태그 찾기\n",
    "\n",
    "* [Beautiful Soup Documentation — Beautiful Soup 4.9.0 documentation](https://www.crummy.com/software/BeautifulSoup/bs4/doc/)"
   ]
  },
  {
   "cell_type": "code",
   "execution_count": 15,
   "metadata": {},
   "outputs": [],
   "source": [
    "# bs4에서 BeautifulSoup 불러오기\n",
    "# html\n",
    "from bs4 import BeautifulSoup as bs\n",
    "\n",
    "html = bs(response.text, 'lxml')"
   ]
  },
  {
   "cell_type": "code",
   "execution_count": 18,
   "metadata": {},
   "outputs": [
    {
     "data": {
      "text/plain": [
       "2"
      ]
     },
     "execution_count": 18,
     "metadata": {},
     "output_type": "execute_result"
    }
   ],
   "source": [
    "table = html.select('table')\n",
    "len(table)"
   ]
  },
  {
   "cell_type": "code",
   "execution_count": 22,
   "metadata": {},
   "outputs": [
    {
     "data": {
      "text/plain": [
       "bs4.element.ResultSet"
      ]
     },
     "execution_count": 22,
     "metadata": {},
     "output_type": "execute_result"
    }
   ],
   "source": [
    "type(table)"
   ]
  },
  {
   "cell_type": "code",
   "execution_count": 21,
   "metadata": {},
   "outputs": [
    {
     "data": {
      "text/plain": [
       "bs4.element.Tag"
      ]
     },
     "execution_count": 21,
     "metadata": {},
     "output_type": "execute_result"
    }
   ],
   "source": [
    "type(table[0])"
   ]
  },
  {
   "cell_type": "markdown",
   "metadata": {},
   "source": [
    "## pandas 코드 한 줄로 데이터 수집하기"
   ]
  },
  {
   "cell_type": "code",
   "execution_count": null,
   "metadata": {},
   "outputs": [],
   "source": [
    "https://eclass3.cau.ac.kr/learningx/coursebuilder/course/50642/learn/157454/unit/1214452/view?user_id=85126&user_login=20176579&user_name=%EB%B0%B0%EB%B3%91%ED%98%84&user_email=bbh9955%40naver.com&role=1&locale=ko&mode=default&component_id=1667070\n",
    "Request Method: GET"
   ]
  },
  {
   "cell_type": "code",
   "execution_count": null,
   "metadata": {},
   "outputs": [],
   "source": [
    "https://eclass3.cau.ac.kr/learningx/coursebuilder/course/50638/learn/172645/unit/1269539/view?user_id=85126&user_login=20176579&user_name=%EB%B0%B0%EB%B3%91%ED%98%84&user_email=bbh9955%40naver.com&role=1&locale=ko&mode=default&component_id=1667070"
   ]
  },
  {
   "cell_type": "code",
   "execution_count": null,
   "metadata": {},
   "outputs": [],
   "source": []
  },
  {
   "cell_type": "code",
   "execution_count": 27,
   "metadata": {
    "id": "T3e0Jt0mTMkA"
   },
   "outputs": [
    {
     "data": {
      "text/plain": [
       "[            날짜        종가     전일비        시가        고가        저가       거래량\n",
       " 0          NaN       NaN     NaN       NaN       NaN       NaN       NaN\n",
       " 1   2021.05.06  136000.0  2000.0  132000.0  137000.0  131000.0   60566.0\n",
       " 2   2021.05.04  134000.0  7500.0  125500.0  135000.0  123500.0  102813.0\n",
       " 3   2021.05.03  126500.0  7000.0  133500.0  133500.0  126500.0   62429.0\n",
       " 4   2021.04.30  133500.0  7000.0  138000.0  139000.0  131500.0  125749.0\n",
       " 5   2021.04.29  140500.0  2500.0  143000.0  145000.0  140500.0   82845.0\n",
       " 6          NaN       NaN     NaN       NaN       NaN       NaN       NaN\n",
       " 7          NaN       NaN     NaN       NaN       NaN       NaN       NaN\n",
       " 8          NaN       NaN     NaN       NaN       NaN       NaN       NaN\n",
       " 9   2021.04.28  143000.0  3000.0  140000.0  146500.0  137500.0  129818.0\n",
       " 10  2021.04.27  140000.0  2500.0  143000.0  143500.0  140000.0   42975.0\n",
       " 11  2021.04.26  142500.0   500.0  142500.0  144500.0  141500.0   44820.0\n",
       " 12  2021.04.23  142000.0  3500.0  145000.0  146000.0  142000.0   56834.0\n",
       " 13  2021.04.22  145500.0  2500.0  145000.0  146000.0  142000.0   86037.0\n",
       " 14         NaN       NaN     NaN       NaN       NaN       NaN       NaN,\n",
       "    0   1   2   3   4   5   6   7   8   9   10  11  12\n",
       " 0  맨앞   1   2   3   4   5   6   7   8   9  10  다음  맨뒤]"
      ]
     },
     "execution_count": 27,
     "metadata": {},
     "output_type": "execute_result"
    }
   ],
   "source": [
    "# read_html을 이용하여 url의 page내의 값을 DataFrame으로 받아옵니다.\n",
    "# cp949는 한글 인코딩을 위해 사용합니다. 기본 인코딩 설정은 utf-8 이며, \n",
    "# 네이버의 일별 시세는 cp949 인코딩으로 불러올 수 있습니다.\n",
    "# 데이터를 로드 했을 때 한글 인코딩이 깨진다면 대부분 cp949 로 불러올 수 있습니다.\n",
    "# table \n",
    "temp = pd.read_html(str(table))\n",
    "temp"
   ]
  },
  {
   "cell_type": "code",
   "execution_count": 31,
   "metadata": {
    "id": "GQ_LCYp0TMkA"
   },
   "outputs": [
    {
     "data": {
      "text/html": [
       "<div>\n",
       "<style scoped>\n",
       "    .dataframe tbody tr th:only-of-type {\n",
       "        vertical-align: middle;\n",
       "    }\n",
       "\n",
       "    .dataframe tbody tr th {\n",
       "        vertical-align: top;\n",
       "    }\n",
       "\n",
       "    .dataframe thead th {\n",
       "        text-align: right;\n",
       "    }\n",
       "</style>\n",
       "<table border=\"1\" class=\"dataframe\">\n",
       "  <thead>\n",
       "    <tr style=\"text-align: right;\">\n",
       "      <th></th>\n",
       "      <th>날짜</th>\n",
       "      <th>종가</th>\n",
       "      <th>전일비</th>\n",
       "      <th>시가</th>\n",
       "      <th>고가</th>\n",
       "      <th>저가</th>\n",
       "      <th>거래량</th>\n",
       "    </tr>\n",
       "  </thead>\n",
       "  <tbody>\n",
       "    <tr>\n",
       "      <th>0</th>\n",
       "      <td>NaN</td>\n",
       "      <td>NaN</td>\n",
       "      <td>NaN</td>\n",
       "      <td>NaN</td>\n",
       "      <td>NaN</td>\n",
       "      <td>NaN</td>\n",
       "      <td>NaN</td>\n",
       "    </tr>\n",
       "    <tr>\n",
       "      <th>1</th>\n",
       "      <td>2021.05.06</td>\n",
       "      <td>136000.0</td>\n",
       "      <td>2000.0</td>\n",
       "      <td>132000.0</td>\n",
       "      <td>137000.0</td>\n",
       "      <td>131000.0</td>\n",
       "      <td>60566.0</td>\n",
       "    </tr>\n",
       "    <tr>\n",
       "      <th>2</th>\n",
       "      <td>2021.05.04</td>\n",
       "      <td>134000.0</td>\n",
       "      <td>7500.0</td>\n",
       "      <td>125500.0</td>\n",
       "      <td>135000.0</td>\n",
       "      <td>123500.0</td>\n",
       "      <td>102813.0</td>\n",
       "    </tr>\n",
       "    <tr>\n",
       "      <th>3</th>\n",
       "      <td>2021.05.03</td>\n",
       "      <td>126500.0</td>\n",
       "      <td>7000.0</td>\n",
       "      <td>133500.0</td>\n",
       "      <td>133500.0</td>\n",
       "      <td>126500.0</td>\n",
       "      <td>62429.0</td>\n",
       "    </tr>\n",
       "    <tr>\n",
       "      <th>4</th>\n",
       "      <td>2021.04.30</td>\n",
       "      <td>133500.0</td>\n",
       "      <td>7000.0</td>\n",
       "      <td>138000.0</td>\n",
       "      <td>139000.0</td>\n",
       "      <td>131500.0</td>\n",
       "      <td>125749.0</td>\n",
       "    </tr>\n",
       "    <tr>\n",
       "      <th>5</th>\n",
       "      <td>2021.04.29</td>\n",
       "      <td>140500.0</td>\n",
       "      <td>2500.0</td>\n",
       "      <td>143000.0</td>\n",
       "      <td>145000.0</td>\n",
       "      <td>140500.0</td>\n",
       "      <td>82845.0</td>\n",
       "    </tr>\n",
       "    <tr>\n",
       "      <th>6</th>\n",
       "      <td>NaN</td>\n",
       "      <td>NaN</td>\n",
       "      <td>NaN</td>\n",
       "      <td>NaN</td>\n",
       "      <td>NaN</td>\n",
       "      <td>NaN</td>\n",
       "      <td>NaN</td>\n",
       "    </tr>\n",
       "    <tr>\n",
       "      <th>7</th>\n",
       "      <td>NaN</td>\n",
       "      <td>NaN</td>\n",
       "      <td>NaN</td>\n",
       "      <td>NaN</td>\n",
       "      <td>NaN</td>\n",
       "      <td>NaN</td>\n",
       "      <td>NaN</td>\n",
       "    </tr>\n",
       "    <tr>\n",
       "      <th>8</th>\n",
       "      <td>NaN</td>\n",
       "      <td>NaN</td>\n",
       "      <td>NaN</td>\n",
       "      <td>NaN</td>\n",
       "      <td>NaN</td>\n",
       "      <td>NaN</td>\n",
       "      <td>NaN</td>\n",
       "    </tr>\n",
       "    <tr>\n",
       "      <th>9</th>\n",
       "      <td>2021.04.28</td>\n",
       "      <td>143000.0</td>\n",
       "      <td>3000.0</td>\n",
       "      <td>140000.0</td>\n",
       "      <td>146500.0</td>\n",
       "      <td>137500.0</td>\n",
       "      <td>129818.0</td>\n",
       "    </tr>\n",
       "    <tr>\n",
       "      <th>10</th>\n",
       "      <td>2021.04.27</td>\n",
       "      <td>140000.0</td>\n",
       "      <td>2500.0</td>\n",
       "      <td>143000.0</td>\n",
       "      <td>143500.0</td>\n",
       "      <td>140000.0</td>\n",
       "      <td>42975.0</td>\n",
       "    </tr>\n",
       "    <tr>\n",
       "      <th>11</th>\n",
       "      <td>2021.04.26</td>\n",
       "      <td>142500.0</td>\n",
       "      <td>500.0</td>\n",
       "      <td>142500.0</td>\n",
       "      <td>144500.0</td>\n",
       "      <td>141500.0</td>\n",
       "      <td>44820.0</td>\n",
       "    </tr>\n",
       "    <tr>\n",
       "      <th>12</th>\n",
       "      <td>2021.04.23</td>\n",
       "      <td>142000.0</td>\n",
       "      <td>3500.0</td>\n",
       "      <td>145000.0</td>\n",
       "      <td>146000.0</td>\n",
       "      <td>142000.0</td>\n",
       "      <td>56834.0</td>\n",
       "    </tr>\n",
       "    <tr>\n",
       "      <th>13</th>\n",
       "      <td>2021.04.22</td>\n",
       "      <td>145500.0</td>\n",
       "      <td>2500.0</td>\n",
       "      <td>145000.0</td>\n",
       "      <td>146000.0</td>\n",
       "      <td>142000.0</td>\n",
       "      <td>86037.0</td>\n",
       "    </tr>\n",
       "    <tr>\n",
       "      <th>14</th>\n",
       "      <td>NaN</td>\n",
       "      <td>NaN</td>\n",
       "      <td>NaN</td>\n",
       "      <td>NaN</td>\n",
       "      <td>NaN</td>\n",
       "      <td>NaN</td>\n",
       "      <td>NaN</td>\n",
       "    </tr>\n",
       "  </tbody>\n",
       "</table>\n",
       "</div>"
      ],
      "text/plain": [
       "            날짜        종가     전일비        시가        고가        저가       거래량\n",
       "0          NaN       NaN     NaN       NaN       NaN       NaN       NaN\n",
       "1   2021.05.06  136000.0  2000.0  132000.0  137000.0  131000.0   60566.0\n",
       "2   2021.05.04  134000.0  7500.0  125500.0  135000.0  123500.0  102813.0\n",
       "3   2021.05.03  126500.0  7000.0  133500.0  133500.0  126500.0   62429.0\n",
       "4   2021.04.30  133500.0  7000.0  138000.0  139000.0  131500.0  125749.0\n",
       "5   2021.04.29  140500.0  2500.0  143000.0  145000.0  140500.0   82845.0\n",
       "6          NaN       NaN     NaN       NaN       NaN       NaN       NaN\n",
       "7          NaN       NaN     NaN       NaN       NaN       NaN       NaN\n",
       "8          NaN       NaN     NaN       NaN       NaN       NaN       NaN\n",
       "9   2021.04.28  143000.0  3000.0  140000.0  146500.0  137500.0  129818.0\n",
       "10  2021.04.27  140000.0  2500.0  143000.0  143500.0  140000.0   42975.0\n",
       "11  2021.04.26  142500.0   500.0  142500.0  144500.0  141500.0   44820.0\n",
       "12  2021.04.23  142000.0  3500.0  145000.0  146000.0  142000.0   56834.0\n",
       "13  2021.04.22  145500.0  2500.0  145000.0  146000.0  142000.0   86037.0\n",
       "14         NaN       NaN     NaN       NaN       NaN       NaN       NaN"
      ]
     },
     "execution_count": 31,
     "metadata": {},
     "output_type": "execute_result"
    }
   ],
   "source": [
    "# table[0]와 table[1]을 확인하여 보면 table[0]에 필요한 데이터들이 있습니다.\n",
    "temp[0]"
   ]
  },
  {
   "cell_type": "code",
   "execution_count": 32,
   "metadata": {
    "id": "0gI1rNUbTMkA"
   },
   "outputs": [
    {
     "data": {
      "text/html": [
       "<div>\n",
       "<style scoped>\n",
       "    .dataframe tbody tr th:only-of-type {\n",
       "        vertical-align: middle;\n",
       "    }\n",
       "\n",
       "    .dataframe tbody tr th {\n",
       "        vertical-align: top;\n",
       "    }\n",
       "\n",
       "    .dataframe thead th {\n",
       "        text-align: right;\n",
       "    }\n",
       "</style>\n",
       "<table border=\"1\" class=\"dataframe\">\n",
       "  <thead>\n",
       "    <tr style=\"text-align: right;\">\n",
       "      <th></th>\n",
       "      <th>날짜</th>\n",
       "      <th>종가</th>\n",
       "      <th>전일비</th>\n",
       "      <th>시가</th>\n",
       "      <th>고가</th>\n",
       "      <th>저가</th>\n",
       "      <th>거래량</th>\n",
       "    </tr>\n",
       "  </thead>\n",
       "  <tbody>\n",
       "    <tr>\n",
       "      <th>1</th>\n",
       "      <td>2021.05.06</td>\n",
       "      <td>136000.0</td>\n",
       "      <td>2000.0</td>\n",
       "      <td>132000.0</td>\n",
       "      <td>137000.0</td>\n",
       "      <td>131000.0</td>\n",
       "      <td>60566.0</td>\n",
       "    </tr>\n",
       "    <tr>\n",
       "      <th>2</th>\n",
       "      <td>2021.05.04</td>\n",
       "      <td>134000.0</td>\n",
       "      <td>7500.0</td>\n",
       "      <td>125500.0</td>\n",
       "      <td>135000.0</td>\n",
       "      <td>123500.0</td>\n",
       "      <td>102813.0</td>\n",
       "    </tr>\n",
       "    <tr>\n",
       "      <th>3</th>\n",
       "      <td>2021.05.03</td>\n",
       "      <td>126500.0</td>\n",
       "      <td>7000.0</td>\n",
       "      <td>133500.0</td>\n",
       "      <td>133500.0</td>\n",
       "      <td>126500.0</td>\n",
       "      <td>62429.0</td>\n",
       "    </tr>\n",
       "    <tr>\n",
       "      <th>4</th>\n",
       "      <td>2021.04.30</td>\n",
       "      <td>133500.0</td>\n",
       "      <td>7000.0</td>\n",
       "      <td>138000.0</td>\n",
       "      <td>139000.0</td>\n",
       "      <td>131500.0</td>\n",
       "      <td>125749.0</td>\n",
       "    </tr>\n",
       "    <tr>\n",
       "      <th>5</th>\n",
       "      <td>2021.04.29</td>\n",
       "      <td>140500.0</td>\n",
       "      <td>2500.0</td>\n",
       "      <td>143000.0</td>\n",
       "      <td>145000.0</td>\n",
       "      <td>140500.0</td>\n",
       "      <td>82845.0</td>\n",
       "    </tr>\n",
       "    <tr>\n",
       "      <th>9</th>\n",
       "      <td>2021.04.28</td>\n",
       "      <td>143000.0</td>\n",
       "      <td>3000.0</td>\n",
       "      <td>140000.0</td>\n",
       "      <td>146500.0</td>\n",
       "      <td>137500.0</td>\n",
       "      <td>129818.0</td>\n",
       "    </tr>\n",
       "    <tr>\n",
       "      <th>10</th>\n",
       "      <td>2021.04.27</td>\n",
       "      <td>140000.0</td>\n",
       "      <td>2500.0</td>\n",
       "      <td>143000.0</td>\n",
       "      <td>143500.0</td>\n",
       "      <td>140000.0</td>\n",
       "      <td>42975.0</td>\n",
       "    </tr>\n",
       "    <tr>\n",
       "      <th>11</th>\n",
       "      <td>2021.04.26</td>\n",
       "      <td>142500.0</td>\n",
       "      <td>500.0</td>\n",
       "      <td>142500.0</td>\n",
       "      <td>144500.0</td>\n",
       "      <td>141500.0</td>\n",
       "      <td>44820.0</td>\n",
       "    </tr>\n",
       "    <tr>\n",
       "      <th>12</th>\n",
       "      <td>2021.04.23</td>\n",
       "      <td>142000.0</td>\n",
       "      <td>3500.0</td>\n",
       "      <td>145000.0</td>\n",
       "      <td>146000.0</td>\n",
       "      <td>142000.0</td>\n",
       "      <td>56834.0</td>\n",
       "    </tr>\n",
       "    <tr>\n",
       "      <th>13</th>\n",
       "      <td>2021.04.22</td>\n",
       "      <td>145500.0</td>\n",
       "      <td>2500.0</td>\n",
       "      <td>145000.0</td>\n",
       "      <td>146000.0</td>\n",
       "      <td>142000.0</td>\n",
       "      <td>86037.0</td>\n",
       "    </tr>\n",
       "  </tbody>\n",
       "</table>\n",
       "</div>"
      ],
      "text/plain": [
       "            날짜        종가     전일비        시가        고가        저가       거래량\n",
       "1   2021.05.06  136000.0  2000.0  132000.0  137000.0  131000.0   60566.0\n",
       "2   2021.05.04  134000.0  7500.0  125500.0  135000.0  123500.0  102813.0\n",
       "3   2021.05.03  126500.0  7000.0  133500.0  133500.0  126500.0   62429.0\n",
       "4   2021.04.30  133500.0  7000.0  138000.0  139000.0  131500.0  125749.0\n",
       "5   2021.04.29  140500.0  2500.0  143000.0  145000.0  140500.0   82845.0\n",
       "9   2021.04.28  143000.0  3000.0  140000.0  146500.0  137500.0  129818.0\n",
       "10  2021.04.27  140000.0  2500.0  143000.0  143500.0  140000.0   42975.0\n",
       "11  2021.04.26  142500.0   500.0  142500.0  144500.0  141500.0   44820.0\n",
       "12  2021.04.23  142000.0  3500.0  145000.0  146000.0  142000.0   56834.0\n",
       "13  2021.04.22  145500.0  2500.0  145000.0  146000.0  142000.0   86037.0"
      ]
     },
     "execution_count": 32,
     "metadata": {},
     "output_type": "execute_result"
    }
   ],
   "source": [
    "# dropna를 통해 결측치가 들어있는 row를 제거합니다.\n",
    "temp_table = temp[0].dropna()\n",
    "temp_table"
   ]
  },
  {
   "cell_type": "code",
   "execution_count": 38,
   "metadata": {},
   "outputs": [
    {
     "data": {
      "text/html": [
       "<div>\n",
       "<style scoped>\n",
       "    .dataframe tbody tr th:only-of-type {\n",
       "        vertical-align: middle;\n",
       "    }\n",
       "\n",
       "    .dataframe tbody tr th {\n",
       "        vertical-align: top;\n",
       "    }\n",
       "\n",
       "    .dataframe thead th {\n",
       "        text-align: right;\n",
       "    }\n",
       "</style>\n",
       "<table border=\"1\" class=\"dataframe\">\n",
       "  <thead>\n",
       "    <tr style=\"text-align: right;\">\n",
       "      <th></th>\n",
       "      <th>날짜</th>\n",
       "      <th>종가</th>\n",
       "      <th>전일비</th>\n",
       "      <th>시가</th>\n",
       "      <th>고가</th>\n",
       "      <th>저가</th>\n",
       "      <th>거래량</th>\n",
       "    </tr>\n",
       "  </thead>\n",
       "  <tbody>\n",
       "  </tbody>\n",
       "</table>\n",
       "</div>"
      ],
      "text/plain": [
       "Empty DataFrame\n",
       "Columns: [날짜, 종가, 전일비, 시가, 고가, 저가, 거래량]\n",
       "Index: []"
      ]
     },
     "execution_count": 38,
     "metadata": {},
     "output_type": "execute_result"
    }
   ],
   "source": [
    "# 수집된 데이터 중에 중복데이터가 있는지 확인하기\n",
    "temp_table[temp_table.duplicated()]"
   ]
  },
  {
   "cell_type": "code",
   "execution_count": 40,
   "metadata": {},
   "outputs": [
    {
     "data": {
      "text/html": [
       "<div>\n",
       "<style scoped>\n",
       "    .dataframe tbody tr th:only-of-type {\n",
       "        vertical-align: middle;\n",
       "    }\n",
       "\n",
       "    .dataframe tbody tr th {\n",
       "        vertical-align: top;\n",
       "    }\n",
       "\n",
       "    .dataframe thead th {\n",
       "        text-align: right;\n",
       "    }\n",
       "</style>\n",
       "<table border=\"1\" class=\"dataframe\">\n",
       "  <thead>\n",
       "    <tr style=\"text-align: right;\">\n",
       "      <th></th>\n",
       "      <th>날짜</th>\n",
       "      <th>종가</th>\n",
       "      <th>전일비</th>\n",
       "      <th>시가</th>\n",
       "      <th>고가</th>\n",
       "      <th>저가</th>\n",
       "      <th>거래량</th>\n",
       "    </tr>\n",
       "  </thead>\n",
       "  <tbody>\n",
       "    <tr>\n",
       "      <th>1</th>\n",
       "      <td>2021.05.06</td>\n",
       "      <td>136000.0</td>\n",
       "      <td>2000.0</td>\n",
       "      <td>132000.0</td>\n",
       "      <td>137000.0</td>\n",
       "      <td>131000.0</td>\n",
       "      <td>60566.0</td>\n",
       "    </tr>\n",
       "    <tr>\n",
       "      <th>2</th>\n",
       "      <td>2021.05.04</td>\n",
       "      <td>134000.0</td>\n",
       "      <td>7500.0</td>\n",
       "      <td>125500.0</td>\n",
       "      <td>135000.0</td>\n",
       "      <td>123500.0</td>\n",
       "      <td>102813.0</td>\n",
       "    </tr>\n",
       "    <tr>\n",
       "      <th>3</th>\n",
       "      <td>2021.05.03</td>\n",
       "      <td>126500.0</td>\n",
       "      <td>7000.0</td>\n",
       "      <td>133500.0</td>\n",
       "      <td>133500.0</td>\n",
       "      <td>126500.0</td>\n",
       "      <td>62429.0</td>\n",
       "    </tr>\n",
       "    <tr>\n",
       "      <th>4</th>\n",
       "      <td>2021.04.30</td>\n",
       "      <td>133500.0</td>\n",
       "      <td>7000.0</td>\n",
       "      <td>138000.0</td>\n",
       "      <td>139000.0</td>\n",
       "      <td>131500.0</td>\n",
       "      <td>125749.0</td>\n",
       "    </tr>\n",
       "    <tr>\n",
       "      <th>5</th>\n",
       "      <td>2021.04.29</td>\n",
       "      <td>140500.0</td>\n",
       "      <td>2500.0</td>\n",
       "      <td>143000.0</td>\n",
       "      <td>145000.0</td>\n",
       "      <td>140500.0</td>\n",
       "      <td>82845.0</td>\n",
       "    </tr>\n",
       "    <tr>\n",
       "      <th>9</th>\n",
       "      <td>2021.04.28</td>\n",
       "      <td>143000.0</td>\n",
       "      <td>3000.0</td>\n",
       "      <td>140000.0</td>\n",
       "      <td>146500.0</td>\n",
       "      <td>137500.0</td>\n",
       "      <td>129818.0</td>\n",
       "    </tr>\n",
       "    <tr>\n",
       "      <th>10</th>\n",
       "      <td>2021.04.27</td>\n",
       "      <td>140000.0</td>\n",
       "      <td>2500.0</td>\n",
       "      <td>143000.0</td>\n",
       "      <td>143500.0</td>\n",
       "      <td>140000.0</td>\n",
       "      <td>42975.0</td>\n",
       "    </tr>\n",
       "    <tr>\n",
       "      <th>11</th>\n",
       "      <td>2021.04.26</td>\n",
       "      <td>142500.0</td>\n",
       "      <td>500.0</td>\n",
       "      <td>142500.0</td>\n",
       "      <td>144500.0</td>\n",
       "      <td>141500.0</td>\n",
       "      <td>44820.0</td>\n",
       "    </tr>\n",
       "    <tr>\n",
       "      <th>12</th>\n",
       "      <td>2021.04.23</td>\n",
       "      <td>142000.0</td>\n",
       "      <td>3500.0</td>\n",
       "      <td>145000.0</td>\n",
       "      <td>146000.0</td>\n",
       "      <td>142000.0</td>\n",
       "      <td>56834.0</td>\n",
       "    </tr>\n",
       "    <tr>\n",
       "      <th>13</th>\n",
       "      <td>2021.04.22</td>\n",
       "      <td>145500.0</td>\n",
       "      <td>2500.0</td>\n",
       "      <td>145000.0</td>\n",
       "      <td>146000.0</td>\n",
       "      <td>142000.0</td>\n",
       "      <td>86037.0</td>\n",
       "    </tr>\n",
       "  </tbody>\n",
       "</table>\n",
       "</div>"
      ],
      "text/plain": [
       "            날짜        종가     전일비        시가        고가        저가       거래량\n",
       "1   2021.05.06  136000.0  2000.0  132000.0  137000.0  131000.0   60566.0\n",
       "2   2021.05.04  134000.0  7500.0  125500.0  135000.0  123500.0  102813.0\n",
       "3   2021.05.03  126500.0  7000.0  133500.0  133500.0  126500.0   62429.0\n",
       "4   2021.04.30  133500.0  7000.0  138000.0  139000.0  131500.0  125749.0\n",
       "5   2021.04.29  140500.0  2500.0  143000.0  145000.0  140500.0   82845.0\n",
       "9   2021.04.28  143000.0  3000.0  140000.0  146500.0  137500.0  129818.0\n",
       "10  2021.04.27  140000.0  2500.0  143000.0  143500.0  140000.0   42975.0\n",
       "11  2021.04.26  142500.0   500.0  142500.0  144500.0  141500.0   44820.0\n",
       "12  2021.04.23  142000.0  3500.0  145000.0  146000.0  142000.0   56834.0\n",
       "13  2021.04.22  145500.0  2500.0  145000.0  146000.0  142000.0   86037.0"
      ]
     },
     "execution_count": 40,
     "metadata": {},
     "output_type": "execute_result"
    }
   ],
   "source": [
    "temp_table.drop_duplicates()"
   ]
  },
  {
   "cell_type": "markdown",
   "metadata": {
    "id": "CKhsb94wTMkA"
   },
   "source": [
    "## 페이지별 데이터 수집 함수 만들기"
   ]
  },
  {
   "cell_type": "code",
   "execution_count": 33,
   "metadata": {
    "id": "gJugcyoiTMkA"
   },
   "outputs": [],
   "source": [
    "# 종목 번호를 이용해 page에 따라 데이터를 읽어오는 함수\n",
    "# \"\"\" 는 이 두개 사이의 행들은 주석 처리되며, 함수의 docstring 으로 사용됩니다.\n",
    "\n",
    "def get_day_list(item_code, page_no):\n",
    "    \"\"\"\n",
    "    일자별 시세를 페이지별로 수집\n",
    "    \"\"\" \n",
    "    # url 만들기\n",
    "    url = f\"https://finance.naver.com/item/sise_day.nhn?code={item_code}&page={page_no}\"\n",
    "    # 브라우저처럼 접근하기 위해 헤더를 만들어주기\n",
    "    headers = {'user-agent': 'Mozilla/5.0 (Windows NT 10.0; Win64; x64) AppleWebKit/537.36 (KHTML, like Gecko) Chrome/90.0.4430.212 Safari/537.36'}\n",
    "    # requests의 get으로 가져오기\n",
    "    # get, post 여부는 네트워크탭의 헤더의 Request Method를 참고\n",
    "    response = requests.get(url, headers=headers)\n",
    "    # html 페이지에서 원하는 데이터를 얻기 위해 bs로 해석하기\n",
    "    html = bs(response.text, 'lxml')\n",
    "    table = html.select('table')\n",
    "    temp = pd.read_html(str(table))\n",
    "    temp_table = temp[0].dropna()\n",
    "    return temp_table"
   ]
  },
  {
   "cell_type": "code",
   "execution_count": 36,
   "metadata": {
    "id": "evjinapgTMkA"
   },
   "outputs": [
    {
     "data": {
      "text/html": [
       "<div>\n",
       "<style scoped>\n",
       "    .dataframe tbody tr th:only-of-type {\n",
       "        vertical-align: middle;\n",
       "    }\n",
       "\n",
       "    .dataframe tbody tr th {\n",
       "        vertical-align: top;\n",
       "    }\n",
       "\n",
       "    .dataframe thead th {\n",
       "        text-align: right;\n",
       "    }\n",
       "</style>\n",
       "<table border=\"1\" class=\"dataframe\">\n",
       "  <thead>\n",
       "    <tr style=\"text-align: right;\">\n",
       "      <th></th>\n",
       "      <th>날짜</th>\n",
       "      <th>종가</th>\n",
       "      <th>전일비</th>\n",
       "      <th>시가</th>\n",
       "      <th>고가</th>\n",
       "      <th>저가</th>\n",
       "      <th>거래량</th>\n",
       "    </tr>\n",
       "  </thead>\n",
       "  <tbody>\n",
       "    <tr>\n",
       "      <th>1</th>\n",
       "      <td>2021.06.04</td>\n",
       "      <td>160500.0</td>\n",
       "      <td>2500.0</td>\n",
       "      <td>160000.0</td>\n",
       "      <td>164000.0</td>\n",
       "      <td>159000.0</td>\n",
       "      <td>66378.0</td>\n",
       "    </tr>\n",
       "    <tr>\n",
       "      <th>2</th>\n",
       "      <td>2021.06.03</td>\n",
       "      <td>158000.0</td>\n",
       "      <td>2000.0</td>\n",
       "      <td>157000.0</td>\n",
       "      <td>161000.0</td>\n",
       "      <td>157000.0</td>\n",
       "      <td>57652.0</td>\n",
       "    </tr>\n",
       "    <tr>\n",
       "      <th>3</th>\n",
       "      <td>2021.06.02</td>\n",
       "      <td>156000.0</td>\n",
       "      <td>500.0</td>\n",
       "      <td>157500.0</td>\n",
       "      <td>159500.0</td>\n",
       "      <td>155000.0</td>\n",
       "      <td>50327.0</td>\n",
       "    </tr>\n",
       "    <tr>\n",
       "      <th>4</th>\n",
       "      <td>2021.06.01</td>\n",
       "      <td>156500.0</td>\n",
       "      <td>3000.0</td>\n",
       "      <td>156000.0</td>\n",
       "      <td>161500.0</td>\n",
       "      <td>154500.0</td>\n",
       "      <td>73187.0</td>\n",
       "    </tr>\n",
       "    <tr>\n",
       "      <th>5</th>\n",
       "      <td>2021.05.31</td>\n",
       "      <td>153500.0</td>\n",
       "      <td>4500.0</td>\n",
       "      <td>157000.0</td>\n",
       "      <td>159000.0</td>\n",
       "      <td>153000.0</td>\n",
       "      <td>66475.0</td>\n",
       "    </tr>\n",
       "    <tr>\n",
       "      <th>9</th>\n",
       "      <td>2021.05.28</td>\n",
       "      <td>158000.0</td>\n",
       "      <td>0.0</td>\n",
       "      <td>158000.0</td>\n",
       "      <td>160000.0</td>\n",
       "      <td>153000.0</td>\n",
       "      <td>56826.0</td>\n",
       "    </tr>\n",
       "    <tr>\n",
       "      <th>10</th>\n",
       "      <td>2021.05.27</td>\n",
       "      <td>158000.0</td>\n",
       "      <td>3000.0</td>\n",
       "      <td>162500.0</td>\n",
       "      <td>163000.0</td>\n",
       "      <td>157500.0</td>\n",
       "      <td>71753.0</td>\n",
       "    </tr>\n",
       "    <tr>\n",
       "      <th>11</th>\n",
       "      <td>2021.05.26</td>\n",
       "      <td>161000.0</td>\n",
       "      <td>4500.0</td>\n",
       "      <td>156500.0</td>\n",
       "      <td>162500.0</td>\n",
       "      <td>156500.0</td>\n",
       "      <td>71240.0</td>\n",
       "    </tr>\n",
       "    <tr>\n",
       "      <th>12</th>\n",
       "      <td>2021.05.25</td>\n",
       "      <td>156500.0</td>\n",
       "      <td>500.0</td>\n",
       "      <td>157000.0</td>\n",
       "      <td>160000.0</td>\n",
       "      <td>155500.0</td>\n",
       "      <td>82030.0</td>\n",
       "    </tr>\n",
       "    <tr>\n",
       "      <th>13</th>\n",
       "      <td>2021.05.24</td>\n",
       "      <td>156000.0</td>\n",
       "      <td>6000.0</td>\n",
       "      <td>162500.0</td>\n",
       "      <td>165000.0</td>\n",
       "      <td>151500.0</td>\n",
       "      <td>161463.0</td>\n",
       "    </tr>\n",
       "  </tbody>\n",
       "</table>\n",
       "</div>"
      ],
      "text/plain": [
       "            날짜        종가     전일비        시가        고가        저가       거래량\n",
       "1   2021.06.04  160500.0  2500.0  160000.0  164000.0  159000.0   66378.0\n",
       "2   2021.06.03  158000.0  2000.0  157000.0  161000.0  157000.0   57652.0\n",
       "3   2021.06.02  156000.0   500.0  157500.0  159500.0  155000.0   50327.0\n",
       "4   2021.06.01  156500.0  3000.0  156000.0  161500.0  154500.0   73187.0\n",
       "5   2021.05.31  153500.0  4500.0  157000.0  159000.0  153000.0   66475.0\n",
       "9   2021.05.28  158000.0     0.0  158000.0  160000.0  153000.0   56826.0\n",
       "10  2021.05.27  158000.0  3000.0  162500.0  163000.0  157500.0   71753.0\n",
       "11  2021.05.26  161000.0  4500.0  156500.0  162500.0  156500.0   71240.0\n",
       "12  2021.05.25  156500.0   500.0  157000.0  160000.0  155500.0   82030.0\n",
       "13  2021.05.24  156000.0  6000.0  162500.0  165000.0  151500.0  161463.0"
      ]
     },
     "execution_count": 36,
     "metadata": {},
     "output_type": "execute_result"
    }
   ],
   "source": [
    "# 함수가 잘 만들어졌는지 확인하기\n",
    "get_day_list(item_code, 1)"
   ]
  },
  {
   "cell_type": "markdown",
   "metadata": {
    "id": "uuaac8XTTMkA"
   },
   "source": [
    "## 반복문을 통한 전체 일자 데이터 수집하기\n",
    "* (주의) 기간이 긴 데이터를 수집할때는 서버에 부담을 주지 않기 위해 time.sleep()값을 주세요."
   ]
  },
  {
   "cell_type": "code",
   "execution_count": null,
   "metadata": {
    "id": "EQs1C6C_TMkA"
   },
   "outputs": [],
   "source": [
    "import time\n",
    "# web page 시작번호\n",
    "page_no = 1\n",
    "# 데이터를 저장할 빈 변수 선언\n",
    "item_list = []\n",
    "\n",
    "while True:\n",
    "    if page_no > 10:\n",
    "        break;"
   ]
  },
  {
   "cell_type": "code",
   "execution_count": null,
   "metadata": {},
   "outputs": [],
   "source": [
    "len(item_list)"
   ]
  },
  {
   "cell_type": "markdown",
   "metadata": {
    "id": "iEFBJv5XTMkA"
   },
   "source": [
    "## 수집한 데이터 하나의 데이터프레임으로 합치기\n",
    "\n",
    "<img src=\"https://pandas.pydata.org/docs/_images/merging_concat_basic.png\">\n",
    "\n",
    "* [Merge, join, concatenate and compare documentation](https://pandas.pydata.org/docs/user_guide/merging.html#merge-join-concatenate-and-compare)"
   ]
  },
  {
   "cell_type": "code",
   "execution_count": null,
   "metadata": {
    "id": "mUcxeTMFTMkA"
   },
   "outputs": [],
   "source": [
    "# DataFrame들이 list의 형태로 저장된 것을 concat을 이용하여 합치면서 하나의 DataFrame으로 만듭니다.\n",
    "# df"
   ]
  },
  {
   "cell_type": "markdown",
   "metadata": {},
   "source": [
    "<img src=\"https://pandas.pydata.org/docs/_images/08_concat_row.svg\">"
   ]
  },
  {
   "cell_type": "code",
   "execution_count": null,
   "metadata": {
    "id": "Ep3NWfM-TMkA"
   },
   "outputs": [],
   "source": [
    "# head와 tail로 데이터의 일부를 가져와서 봅니다.\n"
   ]
  },
  {
   "cell_type": "code",
   "execution_count": null,
   "metadata": {
    "id": "hHcKUo8iTMkA"
   },
   "outputs": [],
   "source": []
  },
  {
   "cell_type": "markdown",
   "metadata": {
    "id": "DdML6w8yTMkA"
   },
   "source": [
    "## 데이터프레임에 종목코드와 종목명을 추가하기\n",
    "* 파생변수 만들기"
   ]
  },
  {
   "cell_type": "code",
   "execution_count": null,
   "metadata": {
    "id": "-yIDnlZHTMkA"
   },
   "outputs": [],
   "source": [
    "# '종목코드'와 '종목명' column을 추가하면서 각각 item_code와 item_name 값을 입력합니다.\n",
    "# df[\"종목코드\"]\n",
    "# df[\"종목명\"]"
   ]
  },
  {
   "cell_type": "markdown",
   "metadata": {
    "id": "3RlnKPE1TMkA"
   },
   "source": [
    "## 컬럼 순서 변경하기"
   ]
  },
  {
   "cell_type": "code",
   "execution_count": null,
   "metadata": {
    "id": "JblNSbuRTMkA"
   },
   "outputs": [],
   "source": [
    "# DataFrame에서 column 들의 이름을 순서를 조정하여 column순서를 변경할 수 있습니다.\n"
   ]
  },
  {
   "cell_type": "code",
   "execution_count": null,
   "metadata": {},
   "outputs": [],
   "source": [
    "# cols = ['종목코드', '종목명', '날짜', '종가', '전일비', '시가', '고가', '저가', '거래량']\n",
    "# df = df[cols]"
   ]
  },
  {
   "cell_type": "markdown",
   "metadata": {
    "id": "_-SXjeiSTMkA"
   },
   "source": [
    "## 중복데이터 제거하기\n",
    "* drop_duplicates 를 통해 중복된 데이터가 있다면 제거합니다."
   ]
  },
  {
   "cell_type": "code",
   "execution_count": null,
   "metadata": {
    "id": "F0VZGMNRTMkA"
   },
   "outputs": [],
   "source": [
    "# drop_duplicates : row들 끼리 data를 비교하여 같은 값이 있으면 row중 하나를 삭제\n",
    "# df.shape를 전/후로 출력하여 삭제된 row가 있는지 확인\n",
    "df"
   ]
  },
  {
   "cell_type": "markdown",
   "metadata": {
    "id": "viEbEi4iTMkB"
   },
   "source": [
    "## 기술통계값 구하기"
   ]
  },
  {
   "cell_type": "code",
   "execution_count": null,
   "metadata": {
    "id": "Q-gV-QPPTMkB"
   },
   "outputs": [],
   "source": [
    "# describe는 기본적으로 수치데이터에 대한 기술통계값을 구하게 됩니다.\n",
    "df"
   ]
  },
  {
   "cell_type": "markdown",
   "metadata": {},
   "source": [
    "* 참고 : E notation\n",
    "[과학적 기수법 - 위키백과, 우리 모두의 백과사전](https://ko.wikipedia.org/wiki/%EA%B3%BC%ED%95%99%EC%A0%81_%EA%B8%B0%EC%88%98%EB%B2%95)\n",
    "\n",
    "과학적 기수법, 과학적 표기법(scientific notation, scientific form, standard index form, standard form)은 너무 크거나 너무 작은 숫자들을 십진법으로 편하게 작성하여 표현하는 방법이다. 과학자, 수학자, 공학자들이 공통적으로 사용하는데, 부분적인 이유는 특정한 산술을 단순화시켜 주기 때문이다. 과학 계산기에서는 \"SCI\" 디스플레이 모드라는 이름으로 알려져 있다."
   ]
  },
  {
   "cell_type": "code",
   "execution_count": null,
   "metadata": {},
   "outputs": [],
   "source": [
    "# 거래량의 과학적 기수법 읽기\n"
   ]
  },
  {
   "cell_type": "markdown",
   "metadata": {
    "id": "Ql0phnyuTMkB"
   },
   "source": [
    "## 최근 날짜 구해서 파일명 만들기"
   ]
  },
  {
   "cell_type": "code",
   "execution_count": null,
   "metadata": {
    "id": "_dyLUpVVTMkB"
   },
   "outputs": [],
   "source": [
    "# 날짜 column의 첫 row값 확인\n",
    "date = df.____[0][\"날짜\"]\n",
    "date"
   ]
  },
  {
   "cell_type": "code",
   "execution_count": null,
   "metadata": {
    "id": "teInPugvTMkB"
   },
   "outputs": [],
   "source": [
    "# 종목명, 종목코드, 날짜를 이름으로 하는 csv 파일명 만들기\n",
    "file_name = f\"{item_name}_{item_code}_{date}.csv\"\n",
    "file_name"
   ]
  },
  {
   "cell_type": "markdown",
   "metadata": {
    "id": "1LXe-dutTMkB"
   },
   "source": [
    "## 파일로 저장하기"
   ]
  },
  {
   "cell_type": "code",
   "execution_count": null,
   "metadata": {
    "id": "dBRXOwIxTMkB"
   },
   "outputs": [],
   "source": [
    "# 파일로 저장하기 \n",
    "# index=False 로 데이터프레임의 기본 index 는 저장하지 않도록 합니다.\n"
   ]
  },
  {
   "cell_type": "code",
   "execution_count": null,
   "metadata": {
    "id": "EEfm9Yk9TMkB"
   },
   "outputs": [],
   "source": [
    "# 제대로 저장되었는지 파일을 읽어서 확인합니다\n"
   ]
  },
  {
   "cell_type": "markdown",
   "metadata": {},
   "source": [
    "## 전체 과정을 하나의 함수로 만들기"
   ]
  },
  {
   "cell_type": "code",
   "execution_count": null,
   "metadata": {},
   "outputs": [],
   "source": [
    "def get_item_list(item_code, item_name):\n",
    "    \"\"\"\n",
    "    일별 시세를 수집하는 함수\n",
    "    \"\"\"\n",
    "    # web page 시작번호\n",
    "    page_no = 1\n",
    "    # 데이터를 저장할 빈 변수 선언\n",
    "    item_list = []\n",
    "\n",
    "    return df"
   ]
  },
  {
   "cell_type": "code",
   "execution_count": null,
   "metadata": {},
   "outputs": [],
   "source": [
    "item_code = \"003090\"\n",
    "item_name = \"대웅\"\n",
    "\n",
    "get_item_list(item_code, item_name)"
   ]
  },
  {
   "cell_type": "markdown",
   "metadata": {},
   "source": [
    "## 내가 만든 함수의 기능과 소스코드가 궁금하다면?"
   ]
  },
  {
   "cell_type": "code",
   "execution_count": null,
   "metadata": {},
   "outputs": [],
   "source": [
    "# 도움말 보기\n",
    "# get_item_list?\n"
   ]
  },
  {
   "cell_type": "code",
   "execution_count": null,
   "metadata": {},
   "outputs": [],
   "source": [
    "# 소스코드 보기\n",
    "# get_item_list??\n"
   ]
  },
  {
   "cell_type": "code",
   "execution_count": null,
   "metadata": {},
   "outputs": [],
   "source": []
  }
 ],
 "metadata": {
  "colab": {
   "collapsed_sections": [],
   "name": "3. 네이버금융 개별종목 수집.ipynb",
   "provenance": [],
   "toc_visible": true
  },
  "kernelspec": {
   "display_name": "Python 3",
   "language": "python",
   "name": "python3"
  },
  "language_info": {
   "codemirror_mode": {
    "name": "ipython",
    "version": 3
   },
   "file_extension": ".py",
   "mimetype": "text/x-python",
   "name": "python",
   "nbconvert_exporter": "python",
   "pygments_lexer": "ipython3",
   "version": "3.8.3"
  },
  "toc": {
   "base_numbering": 1,
   "nav_menu": {},
   "number_sections": true,
   "sideBar": true,
   "skip_h1_title": false,
   "title_cell": "Table of Contents",
   "title_sidebar": "Contents",
   "toc_cell": false,
   "toc_position": {
    "height": "calc(100% - 180px)",
    "left": "10px",
    "top": "150px",
    "width": "204.8px"
   },
   "toc_section_display": true,
   "toc_window_display": true
  },
  "varInspector": {
   "cols": {
    "lenName": 16,
    "lenType": 16,
    "lenVar": 40
   },
   "kernels_config": {
    "python": {
     "delete_cmd_postfix": "",
     "delete_cmd_prefix": "del ",
     "library": "var_list.py",
     "varRefreshCmd": "print(var_dic_list())"
    },
    "r": {
     "delete_cmd_postfix": ") ",
     "delete_cmd_prefix": "rm(",
     "library": "var_list.r",
     "varRefreshCmd": "cat(var_dic_list()) "
    }
   },
   "types_to_exclude": [
    "module",
    "function",
    "builtin_function_or_method",
    "instance",
    "_Feature"
   ],
   "window_display": false
  }
 },
 "nbformat": 4,
 "nbformat_minor": 1
}
